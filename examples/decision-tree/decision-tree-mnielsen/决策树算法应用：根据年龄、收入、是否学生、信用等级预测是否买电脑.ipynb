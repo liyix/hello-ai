{
 "cells": [
  {
   "cell_type": "markdown",
   "metadata": {},
   "source": [
    "# 决策树算法应用：根据年龄、收入、是否学生、信用等级预测是否买电脑\n",
    "\n",
    "+ 决策树算法的官方文档：http://scikit-learn.org/stable/modules/tree.html\n",
    "\n",
    "+ 每一条数据都是 key-value 键值对，即 dict。\n",
    "+ 特征处理：使用 DictVectorizer 将 dict 转换成独热编码。\n",
    "+ 标签处理：LabelBinarizer "
   ]
  },
  {
   "cell_type": "markdown",
   "metadata": {},
   "source": [
    "我们首先看看数据文件是什么样子。"
   ]
  },
  {
   "cell_type": "code",
   "execution_count": 7,
   "metadata": {
    "scrolled": true
   },
   "outputs": [
    {
     "name": "stdout",
     "output_type": "stream",
     "text": [
      "RID,age,income,student,credit_rating,class_buys_computer\r\n",
      "1,youth,high,no,fair,no\r\n",
      "2,youth,high,no,excellent,no\r\n",
      "3,middle_aged,high,no,fair,yes\r\n",
      "4,senior,medium,no,fair,yes\r\n",
      "5,senior,low,yes,fair,yes\r\n",
      "6,senior,low,yes,excellent,no\r\n",
      "7,middle_aged,low,yes,excellent,yes\r\n",
      "8,youth,medium,no,fair,no\r\n",
      "9,youth,low,yes,fair,yes\r\n",
      "10,senior,medium,yes,fair,yes\r\n",
      "11,youth,medium,yes,excellent,yes\r\n",
      "12,middle_aged,medium,no,excellent,yes\r\n",
      "13,middle_aged,high,yes,fair,yes\r\n",
      "14,senior,medium,no,excellent,no\r\n"
     ]
    }
   ],
   "source": [
    "!cat ./AllElectronics.csv"
   ]
  },
  {
   "cell_type": "markdown",
   "metadata": {},
   "source": [
    "extraction 提取"
   ]
  },
  {
   "cell_type": "code",
   "execution_count": 8,
   "metadata": {},
   "outputs": [
    {
     "name": "stderr",
     "output_type": "stream",
     "text": [
      "/opt/fff/anaconda3/lib/python3.7/site-packages/sklearn/externals/six.py:31: DeprecationWarning: The module is deprecated in version 0.21 and will be removed in version 0.23 since we've dropped support for Python 2.7. Please rely on the official version of six (https://pypi.org/project/six/).\n",
      "  \"(https://pypi.org/project/six/).\", DeprecationWarning)\n"
     ]
    },
    {
     "data": {
      "text/plain": [
       "['RID', 'age', 'income', 'student', 'credit_rating', 'class_buys_computer']"
      ]
     },
     "execution_count": 8,
     "metadata": {},
     "output_type": "execute_result"
    }
   ],
   "source": [
    "from sklearn.feature_extraction import DictVectorizer\n",
    "import csv\n",
    "from sklearn import tree\n",
    "from sklearn import preprocessing\n",
    "from sklearn.externals.six import StringIO\n",
    "\n",
    "fr = data = open('./AllElectronics.csv')\n",
    "reader = csv.reader(fr)\n",
    "headers = next(reader)\n",
    "headers"
   ]
  },
  {
   "cell_type": "markdown",
   "metadata": {},
   "source": [
    "+ 使用 csv 的 reader 方法得到的是一个可迭代对象，须要使用 next() 方法得到数据"
   ]
  },
  {
   "cell_type": "code",
   "execution_count": 9,
   "metadata": {},
   "outputs": [],
   "source": [
    "feature_list = []\n",
    "label_list = []"
   ]
  },
  {
   "cell_type": "code",
   "execution_count": 10,
   "metadata": {},
   "outputs": [],
   "source": [
    "for row in reader:\n",
    "    label_list.append(row[len(row) - 1])\n",
    "    row_dict = {}\n",
    "    for i in range(1,len(row)-1): # 第 1 列是序号，不用存储，因为这一列不参与决策分类\n",
    "        row_dict[headers[i]] = row[i]\n",
    "    feature_list.append(row_dict)"
   ]
  },
  {
   "cell_type": "code",
   "execution_count": 11,
   "metadata": {},
   "outputs": [
    {
     "data": {
      "text/plain": [
       "[{'age': 'youth', 'income': 'high', 'student': 'no', 'credit_rating': 'fair'},\n",
       " {'age': 'youth',\n",
       "  'income': 'high',\n",
       "  'student': 'no',\n",
       "  'credit_rating': 'excellent'},\n",
       " {'age': 'middle_aged',\n",
       "  'income': 'high',\n",
       "  'student': 'no',\n",
       "  'credit_rating': 'fair'},\n",
       " {'age': 'senior',\n",
       "  'income': 'medium',\n",
       "  'student': 'no',\n",
       "  'credit_rating': 'fair'},\n",
       " {'age': 'senior', 'income': 'low', 'student': 'yes', 'credit_rating': 'fair'}]"
      ]
     },
     "execution_count": 11,
     "metadata": {},
     "output_type": "execute_result"
    }
   ],
   "source": [
    "# 看看 feature_list 的前 5 项\n",
    "feature_list[:5]"
   ]
  },
  {
   "cell_type": "code",
   "execution_count": 12,
   "metadata": {},
   "outputs": [
    {
     "data": {
      "text/plain": [
       "['no', 'no', 'yes', 'yes', 'yes']"
      ]
     },
     "execution_count": 12,
     "metadata": {},
     "output_type": "execute_result"
    }
   ],
   "source": [
    "# 看看 label_list 的前 5 项\n",
    "label_list[:5]"
   ]
  },
  {
   "cell_type": "code",
   "execution_count": 13,
   "metadata": {},
   "outputs": [
    {
     "data": {
      "text/plain": [
       "array([[0., 0., 1., 0., 1., 1., 0., 0., 1., 0.],\n",
       "       [0., 0., 1., 1., 0., 1., 0., 0., 1., 0.],\n",
       "       [1., 0., 0., 0., 1., 1., 0., 0., 1., 0.],\n",
       "       [0., 1., 0., 0., 1., 0., 0., 1., 1., 0.],\n",
       "       [0., 1., 0., 0., 1., 0., 1., 0., 0., 1.],\n",
       "       [0., 1., 0., 1., 0., 0., 1., 0., 0., 1.],\n",
       "       [1., 0., 0., 1., 0., 0., 1., 0., 0., 1.],\n",
       "       [0., 0., 1., 0., 1., 0., 0., 1., 1., 0.],\n",
       "       [0., 0., 1., 0., 1., 0., 1., 0., 0., 1.],\n",
       "       [0., 1., 0., 0., 1., 0., 0., 1., 0., 1.],\n",
       "       [0., 0., 1., 1., 0., 0., 0., 1., 0., 1.],\n",
       "       [1., 0., 0., 1., 0., 0., 0., 1., 1., 0.],\n",
       "       [1., 0., 0., 0., 1., 1., 0., 0., 0., 1.],\n",
       "       [0., 1., 0., 1., 0., 0., 0., 1., 1., 0.]])"
      ]
     },
     "execution_count": 13,
     "metadata": {},
     "output_type": "execute_result"
    }
   ],
   "source": [
    "# 来自 sklearn.feature_extraction 的 DictVectorizer 类\n",
    "# 作用是转换为独热编码的格式\n",
    "vec = DictVectorizer()\n",
    "dummy_X = vec.fit_transform(feature_list).toarray()\n",
    "dummy_X"
   ]
  },
  {
   "cell_type": "code",
   "execution_count": 14,
   "metadata": {},
   "outputs": [
    {
     "data": {
      "text/plain": [
       "['age=middle_aged',\n",
       " 'age=senior',\n",
       " 'age=youth',\n",
       " 'credit_rating=excellent',\n",
       " 'credit_rating=fair',\n",
       " 'income=high',\n",
       " 'income=low',\n",
       " 'income=medium',\n",
       " 'student=no',\n",
       " 'student=yes']"
      ]
     },
     "execution_count": 14,
     "metadata": {},
     "output_type": "execute_result"
    }
   ],
   "source": [
    "vec.get_feature_names()"
   ]
  },
  {
   "cell_type": "code",
   "execution_count": 15,
   "metadata": {},
   "outputs": [
    {
     "name": "stdout",
     "output_type": "stream",
     "text": [
      "RID,age,income,student,credit_rating,class_buys_computer\r\n",
      "1,youth,high,no,fair,no\r\n",
      "2,youth,high,no,excellent,no\r\n",
      "3,middle_aged,high,no,fair,yes\r\n",
      "4,senior,medium,no,fair,yes\r\n",
      "5,senior,low,yes,fair,yes\r\n",
      "6,senior,low,yes,excellent,no\r\n",
      "7,middle_aged,low,yes,excellent,yes\r\n",
      "8,youth,medium,no,fair,no\r\n",
      "9,youth,low,yes,fair,yes\r\n",
      "10,senior,medium,yes,fair,yes\r\n",
      "11,youth,medium,yes,excellent,yes\r\n",
      "12,middle_aged,medium,no,excellent,yes\r\n",
      "13,middle_aged,high,yes,fair,yes\r\n",
      "14,senior,medium,no,excellent,no\r\n"
     ]
    }
   ],
   "source": [
    "cat ./AllElectronics.csv"
   ]
  },
  {
   "cell_type": "code",
   "execution_count": 16,
   "metadata": {},
   "outputs": [
    {
     "data": {
      "text/plain": [
       "['age=middle_aged',\n",
       " 'age=senior',\n",
       " 'age=youth',\n",
       " 'credit_rating=excellent',\n",
       " 'credit_rating=fair',\n",
       " 'income=high',\n",
       " 'income=low',\n",
       " 'income=medium',\n",
       " 'student=no',\n",
       " 'student=yes']"
      ]
     },
     "execution_count": 16,
     "metadata": {},
     "output_type": "execute_result"
    }
   ],
   "source": [
    "vec.get_feature_names()"
   ]
  },
  {
   "cell_type": "code",
   "execution_count": 17,
   "metadata": {},
   "outputs": [
    {
     "data": {
      "text/plain": [
       "['no',\n",
       " 'no',\n",
       " 'yes',\n",
       " 'yes',\n",
       " 'yes',\n",
       " 'no',\n",
       " 'yes',\n",
       " 'no',\n",
       " 'yes',\n",
       " 'yes',\n",
       " 'yes',\n",
       " 'yes',\n",
       " 'yes',\n",
       " 'no']"
      ]
     },
     "execution_count": 17,
     "metadata": {},
     "output_type": "execute_result"
    }
   ],
   "source": [
    "label_list"
   ]
  },
  {
   "cell_type": "markdown",
   "metadata": {},
   "source": [
    "处理单独一列成为独热编码。"
   ]
  },
  {
   "cell_type": "code",
   "execution_count": 18,
   "metadata": {},
   "outputs": [
    {
     "data": {
      "text/plain": [
       "array([[0],\n",
       "       [0],\n",
       "       [1],\n",
       "       [1],\n",
       "       [1],\n",
       "       [0],\n",
       "       [1],\n",
       "       [0],\n",
       "       [1],\n",
       "       [1],\n",
       "       [1],\n",
       "       [1],\n",
       "       [1],\n",
       "       [0]])"
      ]
     },
     "execution_count": 18,
     "metadata": {},
     "output_type": "execute_result"
    }
   ],
   "source": [
    "lb = preprocessing.LabelBinarizer()\n",
    "dummy_y = lb.fit_transform(label_list)\n",
    "dummy_y"
   ]
  },
  {
   "cell_type": "code",
   "execution_count": 19,
   "metadata": {},
   "outputs": [
    {
     "data": {
      "text/plain": [
       "14"
      ]
     },
     "execution_count": 19,
     "metadata": {},
     "output_type": "execute_result"
    }
   ],
   "source": [
    "len(dummy_X)"
   ]
  },
  {
   "cell_type": "markdown",
   "metadata": {},
   "source": [
    "使用决策树算法进行训练"
   ]
  },
  {
   "cell_type": "code",
   "execution_count": 20,
   "metadata": {},
   "outputs": [
    {
     "data": {
      "text/plain": [
       "DecisionTreeClassifier(class_weight=None, criterion='entropy', max_depth=None,\n",
       "                       max_features=None, max_leaf_nodes=None,\n",
       "                       min_impurity_decrease=0.0, min_impurity_split=None,\n",
       "                       min_samples_leaf=1, min_samples_split=2,\n",
       "                       min_weight_fraction_leaf=0.0, presort=False,\n",
       "                       random_state=None, splitter='best')"
      ]
     },
     "execution_count": 20,
     "metadata": {},
     "output_type": "execute_result"
    }
   ],
   "source": [
    "clf = tree.DecisionTreeClassifier(criterion='entropy')\n",
    "clf.fit(dummy_X, dummy_y)"
   ]
  },
  {
   "cell_type": "markdown",
   "metadata": {},
   "source": [
    "可视化决策树模型"
   ]
  },
  {
   "cell_type": "code",
   "execution_count": 21,
   "metadata": {},
   "outputs": [],
   "source": [
    "with open('allElectronicInformationGainOri.dot','w') as fw:\n",
    "    f = tree.export_graphviz(clf,feature_names= vec.get_feature_names(),out_file=fw)"
   ]
  },
  {
   "cell_type": "code",
   "execution_count": 22,
   "metadata": {},
   "outputs": [
    {
     "name": "stdout",
     "output_type": "stream",
     "text": [
      "\u001b[31m2018_02_20.dot\u001b[m\u001b[m*\r\n",
      "\u001b[31m2018_02_20.pdf\u001b[m\u001b[m*\r\n",
      "\u001b[31mAllElectronics.csv\u001b[m\u001b[m*\r\n",
      "\u001b[31mallElectronicInformationGainOri.dot\u001b[m\u001b[m*\r\n",
      "\u001b[31mdt_classifier.py\u001b[m\u001b[m*\r\n",
      "\u001b[31mdt_regressor.py\u001b[m\u001b[m*\r\n",
      "\u001b[31moutput.pdf\u001b[m\u001b[m*\r\n",
      "\u001b[31m《Python 大战机器学习》第 2 章决策树笔记.ipynb\u001b[m\u001b[m*\r\n",
      "\u001b[31m使用信息熵寻找最优的划分.py\u001b[m\u001b[m*\r\n",
      "\u001b[31m决策树算法应用：根据年龄、收入、是否学生、信用等级预测是否买电脑.ipynb\u001b[m\u001b[m*\r\n"
     ]
    }
   ],
   "source": [
    "ls"
   ]
  },
  {
   "cell_type": "markdown",
   "metadata": {},
   "source": [
    "此时看到当前文件夹下已经有  `allElectronicInformationGainOri.dot` 文件生成了。我们可以看看这个文件。"
   ]
  },
  {
   "cell_type": "code",
   "execution_count": 23,
   "metadata": {},
   "outputs": [
    {
     "name": "stdout",
     "output_type": "stream",
     "text": [
      "digraph Tree {\r\n",
      "node [shape=box] ;\r\n",
      "0 [label=\"age=middle_aged <= 0.5\\nentropy = 0.94\\nsamples = 14\\nvalue = [5, 9]\"] ;\r\n",
      "1 [label=\"student=no <= 0.5\\nentropy = 1.0\\nsamples = 10\\nvalue = [5, 5]\"] ;\r\n",
      "0 -> 1 [labeldistance=2.5, labelangle=45, headlabel=\"True\"] ;\r\n",
      "2 [label=\"credit_rating=fair <= 0.5\\nentropy = 0.722\\nsamples = 5\\nvalue = [1, 4]\"] ;\r\n",
      "1 -> 2 ;\r\n",
      "3 [label=\"income=medium <= 0.5\\nentropy = 1.0\\nsamples = 2\\nvalue = [1, 1]\"] ;\r\n",
      "2 -> 3 ;\r\n",
      "4 [label=\"entropy = 0.0\\nsamples = 1\\nvalue = [1, 0]\"] ;\r\n",
      "3 -> 4 ;\r\n",
      "5 [label=\"entropy = 0.0\\nsamples = 1\\nvalue = [0, 1]\"] ;\r\n",
      "3 -> 5 ;\r\n",
      "6 [label=\"entropy = 0.0\\nsamples = 3\\nvalue = [0, 3]\"] ;\r\n",
      "2 -> 6 ;\r\n",
      "7 [label=\"age=youth <= 0.5\\nentropy = 0.722\\nsamples = 5\\nvalue = [4, 1]\"] ;\r\n",
      "1 -> 7 ;\r\n",
      "8 [label=\"credit_rating=excellent <= 0.5\\nentropy = 1.0\\nsamples = 2\\nvalue = [1, 1]\"] ;\r\n",
      "7 -> 8 ;\r\n",
      "9 [label=\"entropy = 0.0\\nsamples = 1\\nvalue = [0, 1]\"] ;\r\n",
      "8 -> 9 ;\r\n",
      "10 [label=\"entropy = 0.0\\nsamples = 1\\nvalue = [1, 0]\"] ;\r\n",
      "8 -> 10 ;\r\n",
      "11 [label=\"entropy = 0.0\\nsamples = 3\\nvalue = [3, 0]\"] ;\r\n",
      "7 -> 11 ;\r\n",
      "12 [label=\"entropy = 0.0\\nsamples = 4\\nvalue = [0, 4]\"] ;\r\n",
      "0 -> 12 [labeldistance=2.5, labelangle=-45, headlabel=\"False\"] ;\r\n",
      "}"
     ]
    }
   ],
   "source": [
    "cat allElectronicInformationGainOri.dot"
   ]
  },
  {
   "cell_type": "markdown",
   "metadata": {},
   "source": [
    "使用工具可视化决策树模型。\n",
    "\n",
    "graphviz 软件官方网址： http://www.graphviz.org/\n",
    "\n",
    "+ 转化 dot 文件至 pdf 可视化决策树的命令：\n",
    "\n",
    "```\n",
    "dot -Tpdf iris.dot -o output.pdf\n",
    "```"
   ]
  },
  {
   "cell_type": "code",
   "execution_count": 24,
   "metadata": {},
   "outputs": [],
   "source": [
    "!dot -Tpdf allElectronicInformationGainOri.dot -o output.pdf"
   ]
  },
  {
   "cell_type": "code",
   "execution_count": 26,
   "metadata": {},
   "outputs": [
    {
     "name": "stdout",
     "output_type": "stream",
     "text": [
      "\u001b[31m2018_02_20.dot\u001b[m\u001b[m\r\n",
      "\u001b[31m2018_02_20.pdf\u001b[m\u001b[m\r\n",
      "\u001b[31mAllElectronics.csv\u001b[m\u001b[m\r\n",
      "\u001b[31mallElectronicInformationGainOri.dot\u001b[m\u001b[m\r\n",
      "\u001b[31mdt_classifier.py\u001b[m\u001b[m\r\n",
      "\u001b[31mdt_regressor.py\u001b[m\u001b[m\r\n",
      "\u001b[31moutput.pdf\u001b[m\u001b[m\r\n",
      "\u001b[31m《Python 大战机器学习》第 2 章决策树笔记.ipynb\u001b[m\u001b[m\r\n",
      "\u001b[31m使用信息熵寻找最优的划分.py\u001b[m\u001b[m\r\n",
      "\u001b[31m决策树算法应用：根据年龄、收入、是否学生、信用等级预测是否买电脑.ipynb\u001b[m\u001b[m\r\n"
     ]
    }
   ],
   "source": [
    "!ls"
   ]
  },
  {
   "cell_type": "markdown",
   "metadata": {},
   "source": [
    "在当前文件夹下就可以看到 output.pdf 文件。"
   ]
  },
  {
   "cell_type": "markdown",
   "metadata": {},
   "source": [
    "下面开始预测。"
   ]
  },
  {
   "cell_type": "code",
   "execution_count": 27,
   "metadata": {},
   "outputs": [
    {
     "data": {
      "text/plain": [
       "array([0., 0., 1., 0., 1., 1., 0., 0., 1., 0.])"
      ]
     },
     "execution_count": 27,
     "metadata": {},
     "output_type": "execute_result"
    }
   ],
   "source": [
    "one_row_X = dummy_X[0,:]\n",
    "one_row_X"
   ]
  },
  {
   "cell_type": "code",
   "execution_count": 28,
   "metadata": {},
   "outputs": [
    {
     "data": {
      "text/plain": [
       "array([[0., 0., 1., 0., 1., 1., 0., 0., 1., 0.]])"
      ]
     },
     "execution_count": 28,
     "metadata": {},
     "output_type": "execute_result"
    }
   ],
   "source": [
    "one_row_X.reshape(1,-1)"
   ]
  },
  {
   "cell_type": "code",
   "execution_count": 27,
   "metadata": {},
   "outputs": [
    {
     "data": {
      "text/plain": [
       "array([0])"
      ]
     },
     "execution_count": 27,
     "metadata": {},
     "output_type": "execute_result"
    }
   ],
   "source": [
    "clf.predict(one_row_X.reshape(1,-1))"
   ]
  },
  {
   "cell_type": "markdown",
   "metadata": {},
   "source": [
    "对数据稍作修改，再预测一下。"
   ]
  },
  {
   "cell_type": "code",
   "execution_count": 31,
   "metadata": {},
   "outputs": [
    {
     "name": "stdout",
     "output_type": "stream",
     "text": [
      "newRowX: [ 1.  0.  0.  0.  1.  1.  0.  0.  1.  0.]\n",
      "predictedY: [1]\n"
     ]
    }
   ],
   "source": [
    "new_row_X = one_row_X\n",
    "new_row_X[0] = 1\n",
    "new_row_X[2] = 0\n",
    "print(\"newRowX: \" + str(new_row_X))\n",
    "\n",
    "predicted_y = clf.predict(new_row_X.reshape(1,-1))\n",
    "print(\"predictedY: \" + str(predicted_y))"
   ]
  }
 ],
 "metadata": {
  "kernelspec": {
   "display_name": "Python 3",
   "language": "python",
   "name": "python3"
  },
  "language_info": {
   "codemirror_mode": {
    "name": "ipython",
    "version": 3
   },
   "file_extension": ".py",
   "mimetype": "text/x-python",
   "name": "python",
   "nbconvert_exporter": "python",
   "pygments_lexer": "ipython3",
   "version": "3.7.3"
  },
  "pycharm": {
   "stem_cell": {
    "cell_type": "raw",
    "source": [],
    "metadata": {
     "collapsed": false
    }
   }
  }
 },
 "nbformat": 4,
 "nbformat_minor": 2
}