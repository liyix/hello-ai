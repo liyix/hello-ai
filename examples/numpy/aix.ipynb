{
 "cells": [
  {
   "cell_type": "code",
   "execution_count": 1,
   "metadata": {
    "collapsed": true,
    "pycharm": {
     "is_executing": false
    }
   },
   "outputs": [],
   "source": [
    "import numpy as np\n"
   ]
  },
  {
   "cell_type": "markdown",
   "source": [
    "hello 3 * 3 * 3"
   ],
   "metadata": {
    "collapsed": false
   }
  },
  {
   "cell_type": "code",
   "execution_count": 2,
   "outputs": [
    {
     "name": "stdout",
     "text": [
      "[[ 3  6  9]\n",
      " [ 9  6  9]\n",
      " [11  6  9]]\n"
     ],
     "output_type": "stream"
    }
   ],
   "source": [
    "arr1 = np.array([[[1, 2, 3],\n",
    "                  [1, 2, 3],\n",
    "                  [4, 2, 3]],\n",
    "                 \n",
    "                 [[1, 2, 3], \n",
    "                  [5, 2, 3], \n",
    "                  [5, 2, 3]],\n",
    "                 \n",
    "                 [[1, 2, 3], \n",
    "                  [3, 2, 3], \n",
    "                  [2, 2, 3]]])\n",
    "\n",
    "print(arr1.sum(axis=0))\n"
   ],
   "metadata": {
    "collapsed": false,
    "pycharm": {
     "name": "#%%\n",
     "is_executing": false
    }
   }
  },
  {
   "cell_type": "markdown",
   "source": [
    "hello 4 * 2 * 2\n"
   ],
   "metadata": {
    "collapsed": false,
    "pycharm": {
     "name": "#%% md\n"
    }
   }
  },
  {
   "cell_type": "code",
   "execution_count": 3,
   "outputs": [
    {
     "name": "stdout",
     "text": [
      "[ 0  1  2  3  4  5  6  7  8  9 10 11 12 13 14 15 16 17 18 19 20 21 22 23\n",
      " 24 25 26 27 28 29 30 31]\n"
     ],
     "output_type": "stream"
    }
   ],
   "source": [
    "arr2 = np.arange(0, 32)\n",
    "print(arr2)\n",
    "arr2 = arr2.reshape(4,2,2,2)"
   ],
   "metadata": {
    "collapsed": false,
    "pycharm": {
     "name": "#%%\n",
     "is_executing": false
    }
   }
  },
  {
   "cell_type": "code",
   "execution_count": 4,
   "outputs": [
    {
     "name": "stdout",
     "text": [
      "[[[48 52]\n",
      "  [56 60]]\n",
      "\n",
      " [[64 68]\n",
      "  [72 76]]]\n"
     ],
     "output_type": "stream"
    }
   ],
   "source": [
    "print(arr2.sum(axis=0))"
   ],
   "metadata": {
    "collapsed": false,
    "pycharm": {
     "name": "#%%\n",
     "is_executing": false
    }
   }
  },
  {
   "cell_type": "code",
   "execution_count": 5,
   "outputs": [
    {
     "name": "stdout",
     "text": [
      "[[[ 4  6]\n",
      "  [ 8 10]]\n",
      "\n",
      " [[20 22]\n",
      "  [24 26]]\n",
      "\n",
      " [[36 38]\n",
      "  [40 42]]\n",
      "\n",
      " [[52 54]\n",
      "  [56 58]]]\n"
     ],
     "output_type": "stream"
    }
   ],
   "source": [
    "print(arr2.sum(axis=1))"
   ],
   "metadata": {
    "collapsed": false,
    "pycharm": {
     "name": "#%%\n",
     "is_executing": false
    }
   }
  },
  {
   "cell_type": "code",
   "execution_count": 6,
   "outputs": [
    {
     "name": "stdout",
     "text": [
      "[[[ 2  4]\n",
      "  [10 12]]\n",
      "\n",
      " [[18 20]\n",
      "  [26 28]]\n",
      "\n",
      " [[34 36]\n",
      "  [42 44]]\n",
      "\n",
      " [[50 52]\n",
      "  [58 60]]]\n"
     ],
     "output_type": "stream"
    }
   ],
   "source": [
    "print(arr2.sum(axis=2))"
   ],
   "metadata": {
    "collapsed": false,
    "pycharm": {
     "name": "#%%\n",
     "is_executing": false
    }
   }
  },
  {
   "cell_type": "code",
   "execution_count": 7,
   "outputs": [
    {
     "name": "stdout",
     "text": [
      "[[[ 1  5]\n",
      "  [ 9 13]]\n",
      "\n",
      " [[17 21]\n",
      "  [25 29]]\n",
      "\n",
      " [[33 37]\n",
      "  [41 45]]\n",
      "\n",
      " [[49 53]\n",
      "  [57 61]]]\n"
     ],
     "output_type": "stream"
    }
   ],
   "source": [
    "print(arr2.sum(axis=3))\n"
   ],
   "metadata": {
    "collapsed": false,
    "pycharm": {
     "name": "#%%\n",
     "is_executing": false
    }
   }
  }
 ],
 "metadata": {
  "kernelspec": {
   "display_name": "Python 3",
   "language": "python",
   "name": "python3"
  },
  "language_info": {
   "codemirror_mode": {
    "name": "ipython",
    "version": 2
   },
   "file_extension": ".py",
   "mimetype": "text/x-python",
   "name": "python",
   "nbconvert_exporter": "python",
   "pygments_lexer": "ipython2",
   "version": "2.7.6"
  },
  "pycharm": {
   "stem_cell": {
    "cell_type": "raw",
    "source": [],
    "metadata": {
     "collapsed": false
    }
   }
  }
 },
 "nbformat": 4,
 "nbformat_minor": 0
}