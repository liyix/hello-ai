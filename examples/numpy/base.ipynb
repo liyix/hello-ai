{
 "cells": [
  {
   "cell_type": "code",
   "execution_count": 2,
   "metadata": {
    "pycharm": {
     "name": "#%%\n"
    }
   },
   "outputs": [],
   "source": [
    "import numpy\n",
    "from numpy import matlib"
   ]
  },
  {
   "cell_type": "code",
   "execution_count": 3,
   "metadata": {
    "pycharm": {
     "name": "#%%\n"
    }
   },
   "outputs": [],
   "source": [
    "# arr1 = numpy.array([1, 2, 3, 4])\n",
    "# # print(arr1)\n",
    "#\n",
    "arr2 = numpy.array(\n",
    "    [[1, 2, 3, 4], [4, 5, 6, 7], [8, 9, 10, 11], [2, 5, 6, 8], [1, 2, 3, 4], [4, 5, 6, 7], [8, 9, 10, 11],\n",
    "     [2, 5, 6, 8]])\n",
    "# print(arr2)\n",
    "# print(arr1.dtype)\n",
    "# print(arr2.dtype)\n",
    "# print(arr1.size)\n",
    "# print(arr2.size)\n",
    "#\n",
    "# print(arr1.shape)\n",
    "# print(arr2.shape)\n",
    "#\n",
    "# # 维度\n",
    "# print(arr1.ndim)\n",
    "# print(arr2.ndim)\n",
    "# print(arr2)\n",
    "\n",
    "# 更改维度\n",
    "# arr2.shape = 2, 2, 2, 2, 2\n",
    "# print(arr2)\n",
    "# print(arr2.ndim)"
   ]
  },
  {
   "cell_type": "code",
   "execution_count": 4,
   "metadata": {
    "pycharm": {
     "name": "#%%\n"
    }
   },
   "outputs": [],
   "source": [
    "# ############################第二中方法##########################\n",
    "# 左闭右开\n",
    "# print(numpy.arange(0, 1, 0.001))\n",
    "\n",
    "# 等差数列\n",
    "# 起始值，终值，元素个数\n",
    "# print(numpy.linspace(1, 12, 12))\n",
    "\n",
    "# 等比\n",
    "# 起始值，终值，元素个数\n",
    "# print(numpy.logspace(0, 2, 20))\n",
    "\n",
    "# zeros全0矩阵\n",
    "# print(numpy.zeros((2, 3)))\n",
    "\n",
    "# 全1矩阵\n",
    "# print(numpy.ones((5, 3)))\n",
    "\n",
    "# 对角矩阵\n",
    "# print(numpy.diag([1, 2, 3, 4]))\n",
    "\n",
    "# 单位矩阵\n",
    "# print(numpy.eye(4))"
   ]
  },
  {
   "cell_type": "code",
   "execution_count": 5,
   "metadata": {
    "pycharm": {
     "name": "#%%\n"
    }
   },
   "outputs": [],
   "source": [
    "# 随机数--------------------------------------\n",
    "# 0-1之间100个随机数\n",
    "# print(numpy.random.random(100))\n",
    "\n",
    "# 10行5列 服从均匀分布\n",
    "# print(numpy.random.rand(10, 5))\n",
    "\n",
    "# 10行5列 服从正太分布\n",
    "# print(numpy.random.randn(10, 5))\n",
    "\n",
    "# 随机整数2行5列  左闭右开\n",
    "# print(numpy.random.randint(2, 10, size=[2, 5]))\n"
   ]
  },
  {
   "cell_type": "code",
   "execution_count": 6,
   "metadata": {
    "pycharm": {
     "name": "#%%\n"
    }
   },
   "outputs": [],
   "source": [
    "###############索引访问数组###################\n",
    "# arr1 = numpy.arange(10)\n",
    "\n",
    "# 一维索引\n",
    "# print(arr1[5])\n",
    "\n",
    "# 切片 取3-4\n",
    "# print(arr1[3:5])\n",
    "# 取前5个\n",
    "# print(arr1[:5])\n",
    "\n",
    "# 修改数组元素\n",
    "# arr1[2:4] = 55, 66\n",
    "# print(arr1)\n",
    "\n",
    "# 隔一个取一个\n",
    "# 取所有行arr[:],步长为2arr[::2]\n",
    "# print(arr1[::2])"
   ]
  },
  {
   "cell_type": "code",
   "execution_count": 7,
   "metadata": {
    "pycharm": {
     "name": "#%%\n"
    }
   },
   "outputs": [
    {
     "name": "stdout",
     "output_type": "stream",
     "text": [
      "\n"
     ]
    }
   ],
   "source": [
    "####################二维##################\n",
    "# arr2 = numpy.arange(15)\n",
    "# print(arr2)\n",
    "# arr2.shape = 3, 5\n",
    "# print(arr2)\n",
    "\n",
    "# 取2行 6-7\n",
    "# print(arr2[1, 1:3])\n",
    "\n",
    "# 取2 3 行的第3 4 5列(下标从0开始)\n",
    "# print(arr2[1:3, 2:6])\n",
    "\n",
    "# 取第1行的第5个  和第3行的第4个\n",
    "# print(arr2[[0, 2], [4, 3]])\n",
    "# print(arr2[[(0, 2), (4, 3)]])\n",
    "\n",
    "# 取第2行的第0 2 3个  和第3行的第0 2 3个\n",
    "# print(arr2[1:3, [0, 2, 3]])\n",
    "\n",
    "print()\n",
    "\n",
    "# 根据bool值  取第3行的值\n",
    "# mask = numpy.array([0, 1, 1, 0, 0], dtype=bool)\n",
    "# print(arr2[2, mask])\n"
   ]
  },
  {
   "cell_type": "code",
   "execution_count": 8,
   "metadata": {
    "pycharm": {
     "name": "#%%\n"
    }
   },
   "outputs": [],
   "source": [
    "######################修改数组的形态###############\n",
    "\n",
    "# arr = numpy.arange(12)\n",
    "# arr1 = arr.reshape(3, 4)\n",
    "# print(arr1)\n",
    "\n",
    "# 展平数组 按行展开\n",
    "# print(arr1.ravel())\n",
    "\n",
    "# flatten默认按行展开   F按列展开\n",
    "# print(arr1.flatten())\n",
    "# print(arr1.flatten('F'))\n",
    "\n",
    "# 数乘\n",
    "# arr2 = 3 * arr1\n",
    "# print(arr2)\n",
    "\n",
    "# 横向组合\n",
    "# print(numpy.hstack((arr1, arr2)))\n",
    "# print(numpy.concatenate((arr1, arr2), axis=1))\n",
    "\n",
    "# 纵向组合\n",
    "# print(numpy.vstack((arr1, arr2)))\n",
    "# print(numpy.concatenate((arr1, arr2), axis=0))\n",
    "\n",
    "####数组的分割\n",
    "# arr = numpy.arange(16).reshape(4, 4)\n",
    "\n",
    "# 横向分割(分成左右)分的个数必须能被列数整除\n",
    "# print(numpy.hsplit(arr, 2))\n",
    "# print(numpy.split(arr, 2, axis=1))\n",
    "\n",
    "# 纵向分割 （分成上下）\n",
    "# print(numpy.vsplit(arr, 2))\n"
   ]
  },
  {
   "cell_type": "code",
   "execution_count": 9,
   "metadata": {
    "pycharm": {
     "name": "#%%\n"
    }
   },
   "outputs": [],
   "source": [
    "#################################矩阵######################\n",
    "# 创建矩阵\n",
    "m1 = numpy.mat('1,1,1;1,2,1;2,1,1')\n",
    "m = matlib.mat('1,2,3;4,5,6;7,8,9')\n",
    "# print(m1)\n",
    "#\n",
    "m2 = matlib.matrix([[1, 2, 3], [0, 1, 3], [2, 1, 2]])\n",
    "# print(m2)\n",
    "\n",
    "arr1 = numpy.eye(3)\n",
    "# arr2 = 3 * arr1\n",
    "\n",
    "# 矩阵组合\n",
    "# m3 = matlib.bmat('arr1 arr2;arr2 arr1')\n",
    "# print(m3)\n",
    "\n",
    "# 矩阵相加\n",
    "# print(m1 + m2)\n",
    "\n",
    "# 相乘\n",
    "# print(m1 * m2)\n",
    "\n",
    "# 矩阵的按位相乘\n",
    "# print(matlib.multiply(m1, m2))\n",
    "\n",
    "# 矩阵转置\n",
    "# print(m1.T)\n",
    "\n",
    "# 矩阵的逆\n",
    "# print(m1.I)\n"
   ]
  },
  {
   "cell_type": "code",
   "execution_count": 10,
   "metadata": {
    "pycharm": {
     "name": "#%%\n"
    }
   },
   "outputs": [],
   "source": [
    "#########################数组的运算#############################\n",
    "# 常见的函数有 四则运算、比较运算、逻辑运算\n",
    "x1 = numpy.array([1, 2, 3])\n",
    "x2 = numpy.array([4, 2, 6])\n",
    "\n",
    "# print(x1 + x2)\n",
    "# print(x1 - x2)\n",
    "# print(x1 * x2)\n",
    "# print(x1 / x2)\n",
    "\n",
    "# 幂运算\n",
    "# print(numpy.power(x1, x2))\n",
    "\n",
    "# 逻辑运算\n",
    "# all表示and  any表示or\n",
    "# print(numpy.all(x1 == x2))\n",
    "# print(numpy.any(x1 == x2))\n",
    "\n",
    "# 广播机制\n",
    "a1 = numpy.array([[1, 1, 1], [2, 2, 2], [3, 3, 3]])\n",
    "a2 = numpy.array([1, 2, 3])\n",
    "# print(a1.ndim)\n",
    "# print(a1 + a2)\n",
    "\n",
    "######读取文件\n",
    "# 保存.npy文件\n",
    "# numpy.save('a1', a1)\n",
    "##### 保存多个数组\n",
    "# numpy.savez('a2z', a1, a2)\n",
    "##### 读取\n",
    "# print(numpy.load('a1.npy'))\n",
    "\n",
    "##### 读取多个数组的保存文件\n",
    "# print(numpy.load('a2z.npz'))\n",
    "# data = numpy.load('a2z.npz')\n",
    "# print(data['arr_0'])\n",
    "# print(data['arr_1'])\n",
    "\n",
    "# 保存txt文件(默认空格分隔)\n",
    "# numpy.savetxt('a1.txt', a1, fmt='%d', delimiter=',')\n",
    "# numpy.savetxt('a1.txt', a1,fmt='%d')\n",
    "\n",
    "# 读取txt\n",
    "# print(numpy.loadtxt('a1.txt', delimiter=','))"
   ]
  },
  {
   "cell_type": "code",
   "execution_count": 11,
   "metadata": {
    "pycharm": {
     "name": "#%%\n"
    }
   },
   "outputs": [],
   "source": [
    "####################使用函数进行简单的统计分析#################\n",
    "arr4 = numpy.random.randint(1, 100, size=12)\n",
    "# print(arr4)\n",
    "# arr4.shape = 3, 4\n",
    "\n",
    "# 直接排序\n",
    "# arr4.sort()\n",
    "# print(arr4)\n",
    "\n",
    "# arr4.sort(axis=1)\n",
    "# print(arr4)\n",
    "# arr4.sort(axis=0)\n",
    "# print(arr4)\n",
    "\n",
    "# 返回重新排序值的下标\n",
    "# print(arr4.argsort())"
   ]
  },
  {
   "cell_type": "code",
   "execution_count": 12,
   "metadata": {
    "pycharm": {
     "name": "#%%\n"
    }
   },
   "outputs": [],
   "source": [
    "###########去重与重复数据#############\n",
    "# 1数组内数据去重\n",
    "names = numpy.array(['小明', '小花', '小花', '小明', '小白', '小花', '小白', '小黄', '小黑'])\n",
    "# print('去重之后的数据', numpy.unique(names))\n",
    "# print(sorted(set(names)))\n",
    "\n",
    "# 重复数据(使数组内的数据重复两次)  tile对整个数组进行重复\n",
    "# print(numpy.tile(names, 2))\n",
    "# print(arr2)\n",
    "# 按行重复  repeat对数组元素进行重复\n",
    "# print(numpy.repeat(arr2, 2, axis=1))\n",
    "\n",
    "# 按列重复\n",
    "# print(numpy.repeat(arr2, 2, axis=1))\n",
    "\n",
    "# print(numpy.tile(arr2, 2))\n",
    "# print(numpy.repeat(arr2, 2))"
   ]
  },
  {
   "cell_type": "code",
   "execution_count": 13,
   "metadata": {
    "pycharm": {
     "name": "#%%\n"
    }
   },
   "outputs": [],
   "source": [
    "#################3###########常用统计函数\n",
    "####均为聚合计算\n",
    "arr5 = numpy.arange(16).reshape(2, 8)\n",
    "# print(arr5)\n",
    "\n",
    "# 求和\n",
    "# print(numpy.sum(arr5))\n",
    "\n",
    "# 纵向求和\n",
    "# print(numpy.sum(arr5,axis=0))\n",
    "\n",
    "# h横向求和\n",
    "# print(numpy.sum(arr5,axis=1))\n",
    "\n",
    "# 平均值\n",
    "# print(numpy.mean(arr5))\n",
    "# print(numpy.mean(arr5, axis=0))\n",
    "# print(numpy.mean(arr5, axis=1))\n",
    "\n",
    "# 标准差\n",
    "# print(numpy.std(arr5))\n",
    "\n",
    "# 方差\n",
    "# print(numpy.var(arr5))\n",
    "\n",
    "# 最小值\n",
    "# print(numpy.min(arr5))\n",
    "\n",
    "# print(numpy.min(arr5, axis=1))"
   ]
  },
  {
   "cell_type": "code",
   "execution_count": 14,
   "metadata": {
    "pycharm": {
     "name": "#%%\n"
    }
   },
   "outputs": [],
   "source": [
    "####返回最值得索引\n",
    "# 最小\n",
    "# print(numpy.argmin(arr5))\n",
    "# print(numpy.argmin(arr5,axis=0))\n",
    "# print(numpy.argmin(arr5,axis=1))\n",
    "\n",
    "# 最大\n",
    "# print(numpy.argmax(arr5))"
   ]
  },
  {
   "cell_type": "code",
   "execution_count": 15,
   "metadata": {
    "pycharm": {
     "name": "#%%\n"
    }
   },
   "outputs": [
    {
     "name": "stdout",
     "output_type": "stream",
     "text": [
      "[4 2 5 6 3 8 9 6 3 5 4 2]\n",
      "[ 4  6 11 17 20 28 37 43 46 51 55 57]\n",
      "[       4        8       40      240      720     5760    51840   311040\n",
      "   933120  4665600 18662400 37324800]\n"
     ]
    }
   ],
   "source": [
    "########################################\n",
    "####非聚合计算####\n",
    "ar1 = numpy.array([4, 2, 5, 6, 3, 8, 9, 6, 3, 5, 4, 2])\n",
    "print(ar1)\n",
    "# 累积求和\n",
    "print(numpy.cumsum(ar1))\n",
    "\n",
    "# 累积求积\n",
    "print(numpy.cumprod(ar1))\n"
   ]
  },
  {
   "cell_type": "code",
   "execution_count": null,
   "outputs": [],
   "source": [],
   "metadata": {
    "collapsed": false,
    "pycharm": {
     "name": "#%%\n"
    }
   }
  },
  {
   "cell_type": "code",
   "execution_count": null,
   "outputs": [],
   "source": [],
   "metadata": {
    "collapsed": false,
    "pycharm": {
     "name": "#%%\n"
    }
   }
  },
  {
   "cell_type": "code",
   "execution_count": null,
   "metadata": {},
   "outputs": [],
   "source": []
  },
  {
   "cell_type": "code",
   "execution_count": null,
   "metadata": {},
   "outputs": [],
   "source": []
  }
 ],
 "metadata": {
  "kernelspec": {
   "display_name": "Python 3",
   "language": "python",
   "name": "python3"
  },
  "language_info": {
   "codemirror_mode": {
    "name": "ipython",
    "version": 3
   },
   "file_extension": ".py",
   "mimetype": "text/x-python",
   "name": "python",
   "nbconvert_exporter": "python",
   "pygments_lexer": "ipython3",
   "version": "3.7.3"
  },
  "pycharm": {
   "stem_cell": {
    "cell_type": "raw",
    "source": [],
    "metadata": {
     "collapsed": false
    }
   }
  }
 },
 "nbformat": 4,
 "nbformat_minor": 1
}