{
 "cells": [
  {
   "cell_type": "code",
   "execution_count": null,
   "metadata": {
    "collapsed": true
   },
   "outputs": [],
   "source": [
    "import numpy\n",
    "\n",
    "arr = numpy.loadtxt('len.csv')\n",
    "\n",
    "# 求和\n",
    "print('求和')\n",
    "print(numpy.sum(arr))\n",
    "print()"
   ]
  },
  {
   "cell_type": "code",
   "execution_count": null,
   "outputs": [],
   "source": [
    "# 累计求和\n",
    "print('累积求和')\n",
    "print(numpy.cumsum(arr))\n",
    "print()"
   ],
   "metadata": {
    "collapsed": false,
    "pycharm": {
     "name": "#%%\n"
    }
   }
  },
  {
   "cell_type": "code",
   "execution_count": null,
   "outputs": [],
   "source": [
    "# 均值\n",
    "print('均值')\n",
    "print(numpy.mean(arr))\n",
    "print()"
   ],
   "metadata": {
    "collapsed": false,
    "pycharm": {
     "name": "#%%\n"
    }
   }
  },
  {
   "cell_type": "code",
   "execution_count": null,
   "outputs": [],
   "source": [
    "# 方差\n",
    "print('方差')\n",
    "print(numpy.var(arr))\n",
    "print()"
   ],
   "metadata": {
    "collapsed": false,
    "pycharm": {
     "name": "#%%\n"
    }
   }
  },
  {
   "cell_type": "code",
   "execution_count": null,
   "outputs": [],
   "source": [
    "# 标准差\n",
    "print('标准差')\n",
    "print(numpy.std(arr))\n",
    "print()"
   ],
   "metadata": {
    "collapsed": false,
    "pycharm": {
     "name": "#%%\n"
    }
   }
  },
  {
   "cell_type": "code",
   "execution_count": null,
   "outputs": [],
   "source": [
    "#最大值\n",
    "print('最大值')\n",
    "print(numpy.max(arr))\n",
    "print()"
   ],
   "metadata": {
    "collapsed": false,
    "pycharm": {
     "name": "#%%\n"
    }
   }
  },
  {
   "cell_type": "code",
   "execution_count": null,
   "outputs": [],
   "source": [
    "#最小值\n",
    "print('最小值')\n",
    "print(numpy.min(arr))\n",
    "print()"
   ],
   "metadata": {
    "collapsed": false,
    "pycharm": {
     "name": "#%%\n"
    }
   }
  },
  {
   "cell_type": "code",
   "execution_count": null,
   "outputs": [],
   "source": [
    "#最大值索引\n",
    "print('最大值索引')\n",
    "print(numpy.argmax(arr))\n",
    "print()"
   ],
   "metadata": {
    "collapsed": false,
    "pycharm": {
     "name": "#%%\n"
    }
   }
  },
  {
   "cell_type": "code",
   "execution_count": null,
   "outputs": [],
   "source": [
    "#最小值索引\n",
    "print('最小值索引')\n",
    "print(numpy.argmin(arr))\n",
    "print()"
   ],
   "metadata": {
    "collapsed": false,
    "pycharm": {
     "name": "#%%\n"
    }
   }
  },
  {
   "cell_type": "code",
   "execution_count": null,
   "outputs": [],
   "source": [
    "# 排序\n",
    "print('排序')\n",
    "# arr.sort()\n",
    "print(arr)\n",
    "print()"
   ],
   "metadata": {
    "collapsed": false,
    "pycharm": {
     "name": "#%%\n"
    }
   }
  },
  {
   "cell_type": "code",
   "execution_count": null,
   "outputs": [],
   "source": [
    "# 去重\n",
    "print('去重')\n",
    "print(numpy.unique(arr))\n",
    "print()"
   ],
   "metadata": {
    "collapsed": false,
    "pycharm": {
     "name": "#%%\n"
    }
   }
  },
  {
   "cell_type": "code",
   "execution_count": null,
   "outputs": [],
   "source": [
    "a1 = ['A', 'B', 'C']\n",
    "a2 = ['X', 'Y', 'Z']\n",
    "a3 = []\n",
    "notarr = ['AX', 'CX', 'CZ']\n",
    "\n",
    "# BX AZ CY\n",
    "\n",
    "# 先找出符合题目的所有组合\n",
    "for i in a1:\n",
    "    for j in a2:\n",
    "        if (i + j) not in notarr:\n",
    "            a3.append(i + j)\n",
    "print('除不想对战之外的所有组合:')\n",
    "print(a3)\n",
    "print()\n",
    "\n",
    "\n",
    "##########遍历去重（每个字母仅且出现一次）\n",
    "# 例：组合1 AY 如果A在列表a3中出现了两次，且Y在a3中也出现了两次，则删除组合AY---以此类推\n",
    "def distinct(arr):\n",
    "    count1 = 0\n",
    "    count2 = 0\n",
    "    sta3 = str(arr)\n",
    "    for i in arr:\n",
    "        print('待检测的组合', i)\n",
    "        for j in sta3:\n",
    "            if i[:1] == j:\n",
    "                count1 += 1\n",
    "            if count1 == 2:\n",
    "                for k in sta3:\n",
    "                    if i[1:] == k:\n",
    "                        count2 += 1\n",
    "                    if count2 == 2 and count1 == 2:\n",
    "                        print('删除组合', i)\n",
    "                        arr.remove(i)\n",
    "                        count1 = 0\n",
    "                        count2 = 0\n",
    "                        print(arr)\n",
    "                        break\n",
    "                break\n",
    "    return arr\n",
    "\n",
    "\n",
    "asd = len(a3) - len(notarr)\n",
    "\n",
    "\n",
    "def get_arr(arr):\n",
    "    if len(arr) == asd:\n",
    "        return arr\n",
    "    else:\n",
    "        return get_arr(distinct(arr))\n",
    "\n",
    "print('符合要求的组合：', get_arr(a3))"
   ],
   "metadata": {
    "collapsed": false,
    "pycharm": {
     "name": "#%%\n"
    }
   }
  }
 ],
 "metadata": {
  "kernelspec": {
   "display_name": "Python 3",
   "language": "python",
   "name": "python3"
  },
  "language_info": {
   "codemirror_mode": {
    "name": "ipython",
    "version": 2
   },
   "file_extension": ".py",
   "mimetype": "text/x-python",
   "name": "python",
   "nbconvert_exporter": "python",
   "pygments_lexer": "ipython2",
   "version": "2.7.6"
  },
  "pycharm": {
   "stem_cell": {
    "cell_type": "raw",
    "source": [],
    "metadata": {
     "collapsed": false
    }
   }
  }
 },
 "nbformat": 4,
 "nbformat_minor": 0
}