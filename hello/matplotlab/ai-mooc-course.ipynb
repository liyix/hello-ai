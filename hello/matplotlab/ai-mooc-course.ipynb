{
 "cells": [
  {
   "cell_type": "markdown",
   "source": [
    "[from ->](https://www.ai-xlab.com/course/44/notes)  \n",
    "1.matplotlib基础用法"
   ],
   "metadata": {
    "collapsed": false
   }
  },
  {
   "cell_type": "code",
   "execution_count": null,
   "outputs": [],
   "source": [
    "import matplotlib.pyplot as plt\n",
    "import numpy as np\n",
    "\n",
    "x = np.linspace(-1,1,100)#在数轴上从-1到1生成100个点。\n",
    "y = 2*x + 1\n",
    "plt.plot(x,y)#绘制图像。\n",
    "plt.show()#显示图像。"
   ],
   "metadata": {
    "collapsed": false,
    "pycharm": {
     "name": "#%%\n",
     "is_executing": false
    }
   }
  },
  {
   "cell_type": "markdown",
   "source": [
    "2.matplotlib figure图像"
   ],
   "metadata": {
    "collapsed": false
   }
  },
  {
   "cell_type": "code",
   "execution_count": null,
   "outputs": [],
   "source": [
    "import matplotlib.pyplot as plt\n",
    "import numpy as np\n",
    "\n",
    "x = np.linspace(-1,1,100)#在数轴上从-1到1生成100个点。\n",
    "y1 = 2*x + 1\n",
    "y2 = x**2\n",
    "\n",
    "#不同线条显示在不同图像 figure中。\n",
    "plt.figure()#创建一个图像 figure。\n",
    "plt.plot(x,y1)\n",
    "\n",
    "plt.figure(figsize=(2,2))#创建另一个图像 figure。figsize=(2,2)设置图像大小为宽度 2长度 2。\n",
    "plt.plot(x,y2)\n",
    "\n",
    "plt.show()\n",
    "\n",
    "#将两条线放入同一个图像 figure中。\n",
    "plt.plot(x,y1,color='red',linewidth=1.0,linestyle='--')#color(线条颜色)，linewidth(线宽)，linestyle(线条样式)。\n",
    "plt.plot(x,y2,color='blue',linewidth=3.0,linestyle='-')\n",
    "plt.show()"
   ],
   "metadata": {
    "collapsed": false,
    "pycharm": {
     "name": "#%%\n",
     "is_executing": false
    }
   }
  },
  {
   "cell_type": "markdown",
   "source": [
    "3.matplotlib设置坐标轴1"
   ],
   "metadata": {
    "collapsed": false
   }
  },
  {
   "cell_type": "code",
   "execution_count": null,
   "outputs": [],
   "source": [
    "import matplotlib.pyplot as plt\n",
    "import numpy as np\n",
    "\n",
    "\n",
    "x = np.linspace(-1,1,100)#在数轴上从-1到1生成100个点。\n",
    "y1 = 2*x + 1\n",
    "y2 = x**2\n",
    "\n",
    "#限制显示的区域范围。\n",
    "plt.xlim(-1,2)\n",
    "plt.ylim(-2,3)\n",
    "\n",
    "#对横纵坐标x、y添加标签进行描述。\n",
    "plt.xlabel('I am X.')\n",
    "plt.ylabel('I am Y.')\n",
    "\n",
    "#设置坐标轴尺度间隔\n",
    "new_ticks = np.linspace(-2,2,11)#从[-2,2]平均创建 11个点\n",
    "print(new_ticks)\n",
    "\n",
    "plt.plot(x,y1,color='red',linewidth=1.0,linestyle='--')\n",
    "plt.plot(x,y2,color='blue',linewidth=3.0,linestyle='-')\n",
    "\n",
    "plt.xticks(new_ticks)#将 x轴新尺度传入。\n",
    "plt.yticks([-1,0,1,2,3],\n",
    "           ['level1','level2','level3','level4','level5'])#将 y轴原尺度[-1,0,1,2,3]替换成现尺度['level1','level2','level3','level4','level5']。\n",
    "\n",
    "plt.show()"
   ],
   "metadata": {
    "collapsed": false,
    "pycharm": {
     "name": "#%%\n",
     "is_executing": false
    }
   }
  },
  {
   "cell_type": "markdown",
   "source": [
    "4.matplotlib设置坐标轴2"
   ],
   "metadata": {
    "collapsed": false
   }
  },
  {
   "cell_type": "code",
   "execution_count": null,
   "outputs": [],
   "source": [
    "import matplotlib.pyplot as plt\n",
    "import numpy as np\n",
    "\n",
    "x = np.linspace(-3,3,100)\n",
    "y1 = 2*x + 1\n",
    "y2 = x**2\n",
    "\n",
    "plt.xlim(-1,2)\n",
    "plt.ylim(-2,3)\n",
    "\n",
    "plt.xlabel('I am X.')\n",
    "plt.ylabel('I am Y.')\n",
    "\n",
    "plt.plot(x,y1,color='red',linewidth=1.0,linestyle='--')\n",
    "plt.plot(x,y2,color='blue',linewidth=3.0,linestyle='-')\n",
    "\n",
    "new_ticks = np.linspace(-2,2,11)\n",
    "print(new_ticks)\n",
    "\n",
    "plt.xticks(new_ticks)\n",
    "plt.yticks([-1,0,1,2,3],\n",
    "           ['level1','level2','level3','level4','level5'])\n",
    "\n",
    "# matplotlib设置坐标轴 2\n",
    "#设置坐标轴边框颜色。\n",
    "ax = plt.gca()# gca()表示获取当前坐标轴。将坐标轴信息保存在ax中。\n",
    "ax.spines['right'].set_color('none')# 将右边框设置为 无色。\n",
    "ax.spines['top'].set_color('red')# 将上边框的颜色设置为 红色。\n",
    "\n",
    "ax.xaxis.set_ticks_position('bottom')# 将 x轴的刻度设置在 底边框。\n",
    "ax.yaxis.set_ticks_position('left')# 将 y轴的刻度设置在 左边框。\n",
    "\n",
    "#设置坐标轴交点位置。\n",
    "ax.spines['bottom'].set_position(('data',0))#调整 底边框 的位置，调整为“对应边框数据 的 0 位置上(标签 level2对应着原数据 0)”。\n",
    "ax.spines['left'].set_position(('data',1))#调整 左边框 的位置，调整为“对应边框数据 的 1 位置上”。\n",
    "\n",
    "plt.show()"
   ],
   "metadata": {
    "collapsed": false,
    "pycharm": {
     "name": "#%%\n",
     "is_executing": false
    }
   }
  },
  {
   "cell_type": "markdown",
   "source": [
    "5.matplotlib legend图例"
   ],
   "metadata": {
    "collapsed": false
   }
  },
  {
   "cell_type": "code",
   "execution_count": null,
   "outputs": [],
   "source": [
    "import matplotlib.pyplot as plt\n",
    "import numpy as np\n",
    "\n",
    "x = np.linspace(-3,3,100)\n",
    "y1 = 2*x + 1\n",
    "y2 = x**2\n",
    "\n",
    "plt.xlim(-1,2)\n",
    "plt.ylim(-2,3)\n",
    "\n",
    "plt.xlabel('I am X.')\n",
    "plt.ylabel('I am Y.')\n",
    "\n",
    "#添加图例\n",
    "l1,= plt.plot(x,y1,color='red',linewidth=1.0,linestyle='--')\n",
    "l2,= plt.plot(x,y2,color='blue',linewidth=3.0,linestyle='-')#数注意需要加逗号。\n",
    "plt.legend(handles=[l1,l2],labels=['test1','test2'],loc='best')#handles=[l1,l2]表示将曲线l1和l2传入图例。labels=['test1','test2']表示为图例添加 test1和 test2的描述。loc='best'设定图例的位置为自动最佳。\n",
    "\n",
    "new_ticks = np.linspace(-2,2,11)\n",
    "print(new_ticks)\n",
    "\n",
    "plt.xticks(new_ticks)\n",
    "plt.yticks([-1,0,1,2,3],\n",
    "           ['level1','level2','level3','level4','level5'])\n",
    "plt.show()"
   ],
   "metadata": {
    "collapsed": false,
    "pycharm": {
     "name": "#%%\n",
     "is_executing": false
    }
   }
  },
  {
   "cell_type": "markdown",
   "source": [
    "6.matplotlib 标注"
   ],
   "metadata": {
    "collapsed": false
   }
  },
  {
   "cell_type": "code",
   "execution_count": null,
   "outputs": [],
   "source": [
    "import matplotlib.pyplot as plt\n",
    "import numpy as np\n",
    "\n",
    "x = np.linspace(-1,1,100)\n",
    "y1 = 2*x + 1\n",
    "\n",
    "plt.plot(x,y1,c='red',lw=1.0,ls='-')\n",
    "\n",
    "ax = plt.gca()\n",
    "ax.spines['right'].set_color('none')\n",
    "ax.spines['top'].set_color('none')\n",
    "\n",
    "ax.xaxis.set_ticks_position('bottom')\n",
    "ax.yaxis.set_ticks_position('left')\n",
    "\n",
    "ax.spines['bottom'].set_position(('data',0))\n",
    "ax.spines['left'].set_position(('data',0))\n",
    "\n",
    "#给线加标注\n",
    "x0 = 0.5\n",
    "y0 = x0 * 2 + 1\n",
    "plt.scatter(x0,y0,s=50,c='b')#画点(x0,y0),其中点的大小为 50，颜色为蓝色。\n",
    "plt.plot([x0,x0],[0,y0],c='k',lw=1.0,ls='--')#画虚线，颜色为黑。\n",
    "plt.annotate(r'$ Description:2x + 1 = %s $' %y0,xy=(x0,y0),xytext=(+30,-30),textcoords='offset points',\n",
    "             fontsize=16,arrowprops=dict(arrowstyle='->',connectionstyle='arc3,rad=0.2'))#添加描述(内容，基准点，文本相对基准点位置，)和箭头(起始位置，箭头风格)\n",
    "plt.text(-1,2,r'$THIS\\ IS\\ THE\\ TEXT$',fontsize=16,color='r')#添加注释，注意文本中的空格前需要加\\。\n",
    "plt.show()"
   ],
   "metadata": {
    "collapsed": false,
    "pycharm": {
     "name": "#%%\n",
     "is_executing": false
    }
   }
  },
  {
   "cell_type": "markdown",
   "source": [
    "7.matplotlib scatter散点图"
   ],
   "metadata": {
    "collapsed": false
   }
  },
  {
   "cell_type": "code",
   "execution_count": null,
   "outputs": [],
   "source": [
    "import matplotlib.pyplot as plt\n",
    "import numpy as np\n",
    "\n",
    "plt.scatter(np.arange(5),np.arange(5))\n",
    "plt.show()\n",
    "\n",
    "x=np.random.normal(0,1,500)\n",
    "y=np.random.normal(0,1,500)\n",
    "plt.scatter(x,y,s=50,c='b',alpha=0.5)#alpha表示透明度。\n",
    "plt.xlim(-2,2)\n",
    "plt.ylim(-2,2)#设置视图范围。\n",
    "plt.xticks(())\n",
    "plt.yticks(())#去掉刻度。\n",
    "plt.show()"
   ],
   "metadata": {
    "collapsed": false,
    "pycharm": {
     "name": "#%%\n",
     "is_executing": false
    }
   }
  },
  {
   "cell_type": "markdown",
   "source": [
    "8.matplotlib bar直方图"
   ],
   "metadata": {
    "collapsed": false
   }
  },
  {
   "cell_type": "code",
   "execution_count": null,
   "outputs": [],
   "source": [
    "import matplotlib.pyplot as plt\n",
    "import numpy as np\n",
    "\n",
    "x = np.arange(10)\n",
    "y = 2**x + 10\n",
    "\n",
    "plt.bar(x,y,fc='#9999ff',ec='w')#facecolor='r'直方图的柱颜色为红色。edgecolor='white'直方图的柱边框为白色。\n",
    "\n",
    "#在柱上显示数值。\n",
    "for x,y in zip(x,y):\n",
    "    plt.text(x,y,'%.2f'%y,ha='center',va='bottom')\n",
    "\n",
    "plt.show()"
   ],
   "metadata": {
    "collapsed": false,
    "pycharm": {
     "name": "#%%\n",
     "is_executing": false
    }
   }
  },
  {
   "cell_type": "markdown",
   "source": [
    "9.matplotlib contours等高线图"
   ],
   "metadata": {
    "collapsed": false
   }
  },
  {
   "cell_type": "code",
   "execution_count": null,
   "outputs": [],
   "source": [
    "import matplotlib.pyplot as plt\n",
    "import numpy as np\n",
    "\n",
    "#生成坐标(a,b)的高度f()\n",
    "def f(a,b):\n",
    "    return (1-a/2+a**5+b**3)*np.exp(-a**2-b**2)\n",
    "\n",
    "x=np.linspace(-3,3,100)\n",
    "y=np.linspace(-3,3,100)\n",
    "\n",
    "X,Y=np.meshgrid(x,y)#将(x,y)坐标传入一个网格中，变成 X,Y。\n",
    "plt.contourf(X,Y,f(X,Y),8,alpha=0.75,cmap=plt.cm.hot)#利用 X,Y,f(X,Y)绘制等高线。将图形分为 8个层次。透明度 0.75。颜色模式为 hot。\n",
    "\n",
    "#在等高线上显示数值\n",
    "C = plt.contour(X,Y,f(X,Y),8,colors='black',linewidth=0.5)\n",
    "plt.clabel(C,inline=True,fontsize=10)#inline=True表示线不挡字。\n",
    "\n",
    "plt.xticks(())\n",
    "plt.yticks(())#去掉边框刻度。\n",
    "plt.show()"
   ],
   "metadata": {
    "collapsed": false,
    "pycharm": {
     "name": "#%%\n",
     "is_executing": false
    }
   }
  },
  {
   "cell_type": "markdown",
   "source": [
    "0.matplotlib 3D图"
   ],
   "metadata": {
    "collapsed": false
   }
  },
  {
   "cell_type": "code",
   "execution_count": null,
   "outputs": [],
   "source": [
    "import matplotlib.pyplot as plt\n",
    "import numpy as np\n",
    "from mpl_toolkits.mplot3d import Axes3D\n",
    "\n",
    "fig = plt.figure()\n",
    "ax = Axes3D(fig)\n",
    "\n",
    "x = np.arange(-4,4,0.25)\n",
    "y = np.arange(-4,4,0.25)\n",
    "X,Y = np.meshgrid(x,y)\n",
    "R = np.sqrt(X**2 + Y**2)\n",
    "Z = np.sin(R)\n",
    "\n",
    "ax.plot_surface(X,Y,Z,rstride=1,cstride=1,cmap=plt.get_cmap('rainbow'))#rstride=1,cstride=1代表网格横坐标和纵坐标间隔。\n",
    "ax.contourf(X,Y,Z,zdir='z',offset=-2,cmap='rainbow')\n",
    "ax.set_zlim(-2,2)\n",
    "plt.show()"
   ],
   "metadata": {
    "collapsed": false,
    "pycharm": {
     "name": "#%%\n",
     "is_executing": false
    }
   }
  },
  {
   "cell_type": "markdown",
   "source": [
    "11.matplotlib subplot"
   ],
   "metadata": {
    "collapsed": false
   }
  },
  {
   "cell_type": "code",
   "execution_count": null,
   "outputs": [],
   "source": [
    "import matplotlib.pyplot as plt\n",
    "import numpy as np\n",
    "\n",
    "plt.figure()\n",
    "plt.subplot(2,2,1)#两行两列在第一个位置。\n",
    "plt.plot([0,1],[0,1])\n",
    "\n",
    "plt.subplot(222)#两行两列在第二个位置。\n",
    "plt.plot([0,1],[0,1])\n",
    "\n",
    "plt.subplot(2,1,2)#两行一列在第二个位置。\n",
    "plt.plot([0,1],[0,1])\n",
    "\n",
    "plt.show()"
   ],
   "metadata": {
    "collapsed": false,
    "pycharm": {
     "name": "#%%\n",
     "is_executing": false
    }
   }
  },
  {
   "cell_type": "markdown",
   "source": [
    "12.matplotlib动态图"
   ],
   "metadata": {
    "collapsed": false
   }
  },
  {
   "cell_type": "code",
   "execution_count": null,
   "outputs": [],
   "source": [
    "import matplotlib.pyplot as plt\n",
    "import numpy as np\n",
    "from matplotlib import animation\n",
    "\n",
    "fig.ax = plt.subplots()\n",
    "\n",
    "x = np.arange(0.2*np.pi,0.01)\n",
    "line, = ax.plot(x,np.sin(x))\n",
    "\n",
    "def animate():\n",
    "    line.set_ydata(np.sin(x+i/10))\n",
    "    return line,\n",
    "\n",
    "def init():\n",
    "    line.set_ydata(np.sin(x))\n",
    "    return line,\n",
    "\n",
    "ani = animation.FuncAnimation(fig=fig,func=animate,init_func=init,interval=20)\n",
    "plt.show()\n",
    "\n",
    "\n"
   ],
   "metadata": {
    "collapsed": false,
    "pycharm": {
     "name": "#%%\n",
     "is_executing": false
    }
   }
  }
 ],
 "metadata": {
  "kernelspec": {
   "display_name": "Python 3",
   "language": "python",
   "name": "python3"
  },
  "language_info": {
   "codemirror_mode": {
    "name": "ipython",
    "version": 2
   },
   "file_extension": ".py",
   "mimetype": "text/x-python",
   "name": "python",
   "nbconvert_exporter": "python",
   "pygments_lexer": "ipython2",
   "version": "2.7.6"
  },
  "pycharm": {
   "stem_cell": {
    "cell_type": "raw",
    "source": [],
    "metadata": {
     "collapsed": false
    }
   }
  }
 },
 "nbformat": 4,
 "nbformat_minor": 0
}