{
 "cells": [
  {
   "cell_type": "code",
   "execution_count": 21,
   "metadata": {},
   "outputs": [
    {
     "name": "stdout",
     "output_type": "stream",
     "text": [
      "[1 2 3 4 5 6 7 8 9]\n",
      "[9. 8. 7. 6. 5. 4. 3. 2. 1.]\n"
     ]
    }
   ],
   "source": [
    "import matplotlib.pyplot as plt\n",
    "import numpy as np\n",
    "\n",
    "x = np.arange(1, 10)\n",
    "y = np.linspace(9, 1, 9)\n",
    "print(x)\n",
    "print(y)"
   ]
  },
  {
   "cell_type": "code",
   "execution_count": 22,
   "metadata": {},
   "outputs": [
    {
     "name": "stdout",
     "output_type": "stream",
     "text": [
      "[[1 2 3]\n",
      " [4 5 6]\n",
      " [7 8 9]]\n",
      "[[9. 8. 7.]\n",
      " [6. 5. 4.]\n",
      " [3. 2. 1.]]\n",
      "[[ 9. 16. 21.]\n",
      " [24. 25. 24.]\n",
      " [21. 16.  9.]]\n",
      "[[ 9. 16. 21.]\n",
      " [24. 25. 24.]\n",
      " [21. 16.  9.]]\n"
     ]
    }
   ],
   "source": [
    "x = np.reshape(x, [3, 3])\n",
    "print(x)\n",
    "y = np.reshape(y, [3, 3])\n",
    "print(y)\n",
    "\n",
    "print(x * y)\n",
    "print(y * x)\n"
   ]
  },
  {
   "cell_type": "code",
   "execution_count": null,
   "metadata": {},
   "outputs": [],
   "source": []
  }
 ],
 "metadata": {
  "kernelspec": {
   "display_name": "Python 3",
   "language": "python",
   "name": "python3"
  },
  "language_info": {
   "codemirror_mode": {
    "name": "ipython",
    "version": 3
   },
   "file_extension": ".py",
   "mimetype": "text/x-python",
   "name": "python",
   "nbconvert_exporter": "python",
   "pygments_lexer": "ipython3",
   "version": "3.7.3"
  }
 },
 "nbformat": 4,
 "nbformat_minor": 2
}
