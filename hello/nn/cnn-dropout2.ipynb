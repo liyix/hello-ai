{
 "cells": [
  {
   "cell_type": "code",
   "execution_count": 4,
   "metadata": {},
   "outputs": [],
   "source": [
    "%matplotlib inline\n",
    "%reload_ext autoreload\n",
    "%autoreload 2"
   ]
  },
  {
   "cell_type": "code",
   "execution_count": 5,
   "metadata": {},
   "outputs": [],
   "source": [
    "import os\n",
    "\n",
    "def convert(imgf, labelf, outf, n):\n",
    "    f = open(imgf, \"rb\")\n",
    "    o = open(outf, \"w\")\n",
    "    l = open(labelf, \"rb\")\n",
    "\n",
    "    f.read(16)\n",
    "    l.read(8)\n",
    "    images = []\n",
    "\n",
    "    for i in range(n):\n",
    "        image = [ord(l.read(1))]\n",
    "        for j in range(28*28):\n",
    "            image.append(ord(f.read(1)))\n",
    "        images.append(image)\n",
    "\n",
    "    for image in images:\n",
    "        o.write(\",\".join(str(pix) for pix in image)+\"\\n\")\n",
    "    f.close()\n",
    "    o.close()\n",
    "    l.close()\n",
    "\n",
    "dataPath = '/eee/mnist-data/' \n",
    "trainCsvFilePath = dataPath + \"train.csv\"\n",
    "testCsvFilePath = dataPath + \"test.csv\"\n",
    "\n",
    "def zipMinst2csv():\n",
    "    if not os.path.exists(trainCsvFilePath):\n",
    "        convert(mnistDataPath + \"train-images-idx3-ubyte\", mnistDataPath + \"train-labels-idx1-ubyte\",\n",
    "                trainCsvFilePath, 60000)\n",
    "    if not os.path.exists(testCsvFilePath):\n",
    "        convert(mnistDataPath + \"t10k-images-idx3-ubyte\", mnistDataPath + \"t10k-labels-idx1-ubyte\",\n",
    "                testCsvFilePath, 10000)\n",
    "\n",
    "zipMinst2csv()"
   ]
  },
  {
   "cell_type": "code",
   "execution_count": 6,
   "metadata": {},
   "outputs": [
    {
     "data": {
      "image/png": "[encoded data removed]",
      "text/plain": [
       "<Figure size 432x288 with 1 Axes>"
      ]
     },
     "metadata": {},
     "output_type": "display_data"
    }
   ],
   "source": [
    "### 数据预处理\n",
    "import pandas as pd\n",
    "import numpy as np\n",
    "from keras.utils.np_utils import to_categorical\n",
    "import matplotlib.pyplot as plt\n",
    "\n",
    "df_train = pd.read_csv(trainCsvFilePath, nrows=5000)\n",
    "df_test = pd.read_csv(testCsvFilePath, nrows=5000)\n",
    "\n",
    "X_train = df_train.drop(['label'], axis=1).values.astype('float32')\n",
    "y_train = df_train['label'].values\n",
    "X_test = df_test.values.astype('float32')\n",
    "\n",
    "# 由向量重构图片\n",
    "img_w, img_h = 28, 28\n",
    "\n",
    "# 获取图片张数\n",
    "n_train = X_train.shape[0]\n",
    "n_test = X_test.shape[0]\n",
    "\n",
    "# 数据集归一化\n",
    "X_train = X_train.reshape(n_train,img_w,img_h,1)\n",
    "X_test = X_test.reshape(n_test,img_w,img_h,1)\n",
    "X_train = X_train / 255.0\n",
    "X_test = X_test / 255.0 \n",
    "\n",
    "# 标签编码\n",
    "y_train = to_categorical(y_train)\n",
    "\n",
    "# 显示第233张手写数字的灰度图像\n",
    "imgplot = plt.imshow(X_train[233,:,:,0],cmap='gray')"
   ]
  },
  {
   "cell_type": "code",
   "execution_count": 7,
   "metadata": {},
   "outputs": [
    {
     "name": "stderr",
     "output_type": "stream",
     "text": [
      "/fff/anaconda3/envs/keras/lib/python3.6/site-packages/ipykernel_launcher.py:12: UserWarning: Update your `Conv2D` call to the Keras 2 API: `Conv2D(8, (5, 5), input_shape=(28, 28, 1..., activation=\"relu\")`\n",
      "  if sys.path[0] == '':\n",
      "/fff/anaconda3/envs/keras/lib/python3.6/site-packages/ipykernel_launcher.py:27: UserWarning: The `nb_epoch` argument in `fit` has been renamed `epochs`.\n"
     ]
    },
    {
     "name": "stdout",
     "output_type": "stream",
     "text": [
      "Train on 4000 samples, validate on 1000 samples\n",
      "Epoch 1/1\n",
      " - 2s - loss: 2.0249 - acc: 0.3520 - val_loss: 1.5336 - val_acc: 0.5910\n"
     ]
    },
    {
     "data": {
      "text/plain": [
       "<keras.callbacks.History at 0xb30886ac8>"
      ]
     },
     "execution_count": 7,
     "metadata": {},
     "output_type": "execute_result"
    }
   ],
   "source": [
    "### Keras搭建卷积神经网络\n",
    "# 导入依赖库\n",
    "import numpy\n",
    "from keras.models import Sequential\n",
    "from keras.layers import Dense, Dropout, Flatten, Activation\n",
    "from keras.layers.convolutional import Convolution2D, MaxPooling2D\n",
    "\n",
    "\n",
    "# 构建基准网络\n",
    "def baseline_model():\n",
    "    # 创建模型\n",
    "    model = Sequential()\n",
    "    model.add(Convolution2D(8, 5, 5, input_shape=(28, 28, 1), activation='relu')) # 卷积层 + ReLU\n",
    "    model.add(MaxPooling2D(pool_size=(2, 2))) # 最大池化\n",
    "    model.add(Dropout(0.25)) # 随机断开25%的连接\n",
    "    model.add(Flatten())\n",
    "    model.add(Dense(16, activation='relu')) # 全连接层 + ReLU\n",
    "    model.add(Dropout(0.5))　# 再加一层Dropout\n",
    "    model.add(Dense(10, activation='softmax')) # 输出层 + SoftMax\n",
    "    # 编译模型\n",
    "    model.compile(loss='categorical_crossentropy', optimizer='adam', metrics=['accuracy'])\n",
    "    return model\n",
    "\n",
    "# 设置随机数发生器种子\n",
    "seed = 557373801    # 集智·数据科学QQ群\n",
    "numpy.random.seed(seed)\n",
    "\n",
    "model = baseline_model()\n",
    "# 拟合模型\n",
    "model.fit(X_train, y_train, validation_split=0.2, nb_epoch=1, batch_size=128, verbose=2)"
   ]
  }
 ],
 "metadata": {
  "kernelspec": {
   "display_name": "Python 3",
   "language": "python",
   "name": "python3"
  },
  "language_info": {
   "codemirror_mode": {
    "name": "ipython",
    "version": 3
   },
   "file_extension": ".py",
   "mimetype": "text/x-python",
   "name": "python",
   "nbconvert_exporter": "python",
   "pygments_lexer": "ipython3",
   "version": "3.6.6"
  }
 },
 "nbformat": 4,
 "nbformat_minor": 2
}
