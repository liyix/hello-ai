{
 "cells": [
  {
   "cell_type": "code",
   "execution_count": 9,
   "metadata": {},
   "outputs": [],
   "source": [
    "\n",
    "import cv2\n",
    "import numpy as np\n",
    "from matplotlib import pyplot as plt\n",
    "\n",
    "pf1 = '/opt/limi/hello-opencv/build/deploy/images/switch/c.jpg'\n",
    "pf2 = '/opt/limi/hello-opencv/build/deploy/data/home.jpg'\n",
    "pf3 = '/opt/limi/hello-opencv/build/deploy/data/smarties.png'"
   ]
  },
  {
   "cell_type": "code",
   "execution_count": 1,
   "metadata": {},
   "outputs": [
    {
     "data": {
      "text/plain": [
       "<Figure size 640x480 with 1 Axes>"
      ]
     },
     "metadata": {},
     "output_type": "display_data"
    }
   ],
   "source": [
    "\n",
    "import cv2\n",
    "import numpy as np\n",
    "from matplotlib import pyplot as plt\n",
    "\n",
    "\n",
    "img = cv2.imread(\"/opt/limi/hello-opencv/build/deploy/images/switch/c.jpg\")\n",
    "mask = np.zeros(img.shape[:2], np.uint8)\n",
    "\n",
    "bgdModel = np.zeros((1, 65), np.float64)\n",
    "fgdModel = np.zeros((1, 65), np.float64)\n",
    "\n",
    "# 包含前景的矩形，格式为 (x,y,w,h)\n",
    "# 为了确定rect，反复调整ROI\n",
    "# x = 190\n",
    "# y = 90\n",
    "# w = 300\n",
    "# h = 750\n",
    "# ROI = img[y:y+h, x:x+w]\n",
    "# cv2.imshow(\"rect\", ROI)\n",
    "\n",
    "rect = (190, 90, 300, 750)\n",
    "\n",
    "# 函数返回值是迭代更新的mask, bgdModel, fgdModel。\n",
    "cv2.grabCut(img, mask, rect, bgdModel, fgdModel, 5, cv2.GC_INIT_WITH_RECT)\n",
    "\n",
    "mask2 = np.where((mask == 2) | (mask == 0), 0, 1).astype(\"uint8\")\n",
    "img = img*mask2[:, :, np.newaxis]\n",
    "\n",
    "# plt.imshow(img), plt.colorbar(), plt.show()\n",
    "cv2.imshow(\"fg\", img)\n",
    "plt.imshow(mask), plt.title(\"mask\"), plt.show()\n",
    "cv2.waitKey(0)\n",
    "cv2.destroyAllWindows()\n",
    "\n",
    "# 经过测试发现，还是缺少一些部分，下面进行修改。完善。"
   ]
  },
  {
   "cell_type": "code",
   "execution_count": null,
   "metadata": {},
   "outputs": [
    {
     "name": "stdout",
     "output_type": "stream",
     "text": [
      "dist_transform 303.21634\n"
     ]
    }
   ],
   "source": [
    "import cv2\n",
    "import numpy as np\n",
    "\n",
    "img = cv2.imread('/opt/limi/hello-opencv/build/deploy/images/switch/c.jpg')\n",
    "gray = cv2.cvtColor(img, cv2.COLOR_BGR2GRAY)\n",
    "cv2.imshow('gray', gray)\n",
    "_, thresh = cv2.threshold(gray, 225, 255, cv2.THRESH_BINARY_INV + cv2.THRESH_OTSU)\n",
    "# show thresh\n",
    "cv2.imshow('thresh', thresh)\n",
    "#\n",
    "kernel = np.ones((3, 3), np.uint8)\n",
    "# noise removal\n",
    "opening = cv2.morphologyEx(thresh, cv2.MORPH_OPEN, kernel, iterations=2)\n",
    "cv2.imshow('opening', opening)\n",
    "# sure background area\n",
    "sure_bg = cv2.dilate(opening, kernel, iterations=3)\n",
    "cv2.imshow('sure_bg', sure_bg)\n",
    "# finding sure foreground area\n",
    "dist_transform = cv2.distanceTransform(opening, cv2.DIST_L2, 5)\n",
    "print('dist_transform', dist_transform.max())\n",
    "_, sure_fg = cv2.threshold(dist_transform, 0.7*dist_transform.max(), 255, 0)\n",
    "# finding unknown region\n",
    "sure_fg = np.uint8(sure_fg)\n",
    "unknow = cv2.subtract(sure_bg, sure_fg)\n",
    "# marker labelling\n",
    "_, markers = cv2.connectedComponents(sure_fg)\n",
    "# add one to all labels so that sure background is not 0, but 1\n",
    "markers = markers+1\n",
    "# now, mark the region of unknown with zero\n",
    "markers[unknow==255] = 0\n",
    "cv2.imshow('unknow', unknow)\n",
    "\n",
    "markers = cv2.watershed(img, markers)\n",
    "img[markers==-1]=[255, 0, 0]\n",
    "cv2.imshow('img', img)\n",
    "img2 = cv2.cvtColor(img.copy(), cv2.COLORMAP_JET)\n",
    "# img2 = cv2.applyColorMap(img.copy(), cv2.COLORMAP_JET)\n",
    "cv2.imshow('img2', img2)\n",
    "cv2.waitKey(0)"
   ]
  },
  {
   "cell_type": "code",
   "execution_count": null,
   "metadata": {},
   "outputs": [],
   "source": [
    "import cv2\n",
    "import numpy as np\n",
    "\n",
    "img = cv2.imread('/opt/limi/hello-opencv/build/deploy/images/switch/c.jpg')\n",
    "cv2.imshow('img',img)\n",
    "\n",
    "# 将图像转化为灰度图像\n",
    "gray=cv2.cvtColor(img,cv2.COLOR_BGR2GRAY)\n",
    "\n",
    "# 阈值化处理\n",
    "ret,thresh=cv2.threshold(gray,0,255,cv2.THRESH_BINARY_INV+cv2.THRESH_OTSU)\n",
    "# cv2.imshow('thresh',thresh)\n",
    "\n",
    "#noise removal\n",
    "#opening operator是先腐蚀后膨胀，可以消除一些细小的边界，消除噪声\n",
    "kernel=np.ones((3,3),np.uint8)\n",
    "opening=cv2.morphologyEx(thresh,cv2.MORPH_OPEN,kernel,iterations=2)\n",
    "# cv2.imshow('opening',opening)\n",
    "\n",
    "#sure background area\n",
    "sure_bg=cv2.dilate(opening,kernel,iterations=3)\n",
    "# cv2.imshow('bg',sure_bg)\n",
    "\n",
    "#finding sure foreground area\n",
    "dist_transfrom=cv2.distanceTransform(opening,cv2.DIST_L2 ,5)\n",
    "#cv2.imshow('dist_transfrom',dist_transfrom)\n",
    "ret,sure_fg=cv2.threshold(dist_transfrom,0.7*dist_transfrom.max(),255,0)\n",
    "\n",
    "# cv2.imshow('sure_fg',sure_fg)\n",
    "\n",
    "#finding unknow region\n",
    "sure_fg=np.uint8(sure_fg)\n",
    "unknow=cv2.subtract(sure_bg,sure_fg) #背景-前景\n",
    "# cv2.imshow('unknow',unknow)\n",
    "\n",
    "ret,maker=cv2.connectedComponents(sure_fg)\n",
    "maker=maker+1\n",
    "maker[unknow==255]=0\n",
    "\n",
    "maker = cv2.watershed(img,maker)\n",
    "# cv2.imshow('maker',maker)\n",
    "img[maker == -1] = [0,0,255]\n",
    "cv2.imshow('result',img)\n",
    "\n",
    "if cv2.waitKey(0) == 27:\n",
    "    cv2.destroyAllWindows()"
   ]
  },
  {
   "cell_type": "code",
   "execution_count": null,
   "metadata": {},
   "outputs": [],
   "source": [
    "image = cv2.imread(\"/opt/limi/hello-opencv/build/deploy/images/switch/c.jpg\")\n",
    "r = 150.0 / image.shape[1]\n",
    "dim = (150, int(image.shape[0] * r))\n",
    "resized = cv2.resize(image, dim, interpolation=cv2.INTER_AREA)\n",
    "lower_white = np.array([220, 220, 220], dtype=np.uint8)\n",
    "upper_white = np.array([255, 255, 255], dtype=np.uint8)\n",
    "mask = cv2.inRange(resized, lower_white, upper_white) # could also use threshold\n",
    "res = cv2.bitwise_not(resized, resized, mask)\n",
    "cv2.imshow('res', res) # gives black background"
   ]
  },
  {
   "cell_type": "code",
   "execution_count": null,
   "metadata": {},
   "outputs": [],
   "source": [
    "src = cv2.imread(\"/opt/limi/hello-opencv/build/deploy/images/switch/c.jpg\", 1)          # Reads in image source\n",
    "colors_count = {}                      # Empty dictionary container to hold the colour frequencies\n",
    " \n",
    "(channel_b, channel_g, channel_r) = cv2.split(self.src) # Splits image Mat into 3 color channels in individual 2D arrays\n",
    "\n",
    "channel_b = channel_b.flatten()                         # Flattens the 2D single channel array so as to make it easier to iterate over it\n",
    "channel_g = channel_g.flatten()                         #                   &quot;&quot;\n",
    "channel_r = channel_r.flatten()                         #                   &quot;&quot;\n",
    "\n",
    "for i in xrange(len(channel_b)):\n",
    "    RGB = &quot;(&quot; + str(channel_r[i]) + &quot;,&quot; + str(channel_g[i]) + &quot;,&quot; + str(channel_b[i]) + &quot;)&quot;\n",
    "    if RGB in self.colors_count:\n",
    "        self.colors_count[RGB] += 1\n",
    "    else:\n",
    "        self.colors_count[RGB] = 1\n",
    "\n",
    "print(Colours counted);\n",
    "\n",
    "for keys in sorted(self.colors_count, key=self.colors_count.__getitem__):       # Sorts dictionary by value\n",
    "    print(keys, colors_count[keys])\n",
    "                \n",
    "waitKey(0)                                  # Waits for keypress before closing\n"
   ]
  },
  {
   "cell_type": "code",
   "execution_count": null,
   "metadata": {
    "pycharm": {
     "name": "#%%\n"
    }
   },
   "outputs": [],
   "source": [
    "import cv2\n",
    "import  numpy as np\n",
    "\n",
    "# img=cv2.imread('/opt/limi/hello-opencv/build/deploy/images/switch/c.jpg')\n",
    "img=cv2.imread('/opt/limi/hello-opencv/build/deploy/data/home.jpg')\n",
    "# Scaling\n",
    "rows,cols,channels = img.shape\n",
    "img=cv2.resize(img,None,fx=0.5,fy=0.5)\n",
    "rows,cols,channels = img.shape\n",
    "cv2.imshow('img',img)\n",
    "\n",
    "# HSV conversion\n",
    "hsv=cv2.cvtColor(img,cv2.COLOR_BGR2HSV)\n",
    "lower_blue=np.array([90,70,70])\n",
    "upper_blue=np.array([110,255,255])\n",
    "mask = cv2.inRange(hsv, lower_blue, upper_blue)\n",
    "cv2.imshow('Mask', mask)\n",
    "\n",
    "# Corrosion Expansion\n",
    "erode=cv2.erode(mask,None,iterations=1)\n",
    "cv2.imshow('erode',erode)\n",
    "dilate=cv2.dilate(erode,None,iterations=1)\n",
    "cv2.imshow('dilate',dilate)\n",
    "\n",
    "# ergodic substitution\n",
    "for i in range(rows):\n",
    "    for j in range(cols):\n",
    "        if dilate[i,j]==255:\n",
    "            img[i, j]= (0, 0, 255)# Replace the color here for the BGR channel\n",
    "cv2.imshow('res',img)\n",
    "\n",
    "cv2.waitKey(0)\n",
    "cv2.destroyAllWindows()"
   ]
  },
  {
   "cell_type": "code",
   "execution_count": null,
   "metadata": {
    "pycharm": {
     "name": "#%%\n"
    }
   },
   "outputs": [],
   "source": [
    "import numpy as np\n",
    "import cv2\n",
    "from matplotlib import pyplot as plt\n",
    "\n",
    "img = cv2.imread('messi5.jpg')\n",
    "mask = np.zeros(img.shape[:2],np.uint8)\n",
    "\n",
    "bgdModel = np.zeros((1,65),np.float64)\n",
    "fgdModel = np.zeros((1,65),np.float64)\n",
    "\n",
    "rect = (50,50,450,290)\n",
    "cv2.grabCut(img,mask,rect,bgdModel,fgdModel,5,cv2.GC_INIT_WITH_RECT)\n",
    "\n",
    "mask2 = np.where((mask==2)|(mask==0),0,1).astype('uint8')\n",
    "img = img*mask2[:,:,np.newaxis]\n",
    "\n",
    "plt.imshow(img),plt.colorbar(),plt.show()\n",
    "\n",
    "# newmask is the mask image I manually labelled\n",
    "newmask = cv2.imread(pf2,0)\n",
    "\n",
    "# whereever it is marked white (sure foreground), change mask=1\n",
    "# whereever it is marked black (sure background), change mask=0\n",
    "mask[newmask == 0] = 0\n",
    "mask[newmask == 255] = 1\n",
    "\n",
    "mask, bgdModel, fgdModel = cv2.grabCut(img,mask,None,bgdModel,fgdModel,5,cv2.GC_INIT_WITH_MASK)\n",
    "\n",
    "mask = np.where((mask==2)|(mask==0),0,1).astype('uint8')\n",
    "img = img*mask[:,:,np.newaxis]\n",
    "plt.imshow(img),plt.colorbar(),plt.show()"
   ]
  },
  {
   "cell_type": "code",
   "execution_count": null,
   "outputs": [],
   "source": [],
   "metadata": {
    "collapsed": false,
    "pycharm": {
     "name": "#%%\n"
    }
   }
  },
  {
   "cell_type": "code",
   "execution_count": null,
   "outputs": [],
   "source": [
    "import numpy as np\n",
    "import cv2\n",
    "from matplotlib import pyplot as plt\n",
    "\n",
    "img = cv2.imread('messi5.jpg')\n",
    "mask = np.zeros(img.shape[:2],np.uint8)\n",
    "\n",
    "bgdModel = np.zeros((1,65),np.float64)\n",
    "fgdModel = np.zeros((1,65),np.float64)\n",
    "\n",
    "rect = (50,50,450,290)\n",
    "cv2.grabCut(img,mask,rect,bgdModel,fgdModel,5,cv2.GC_INIT_WITH_RECT)\n",
    "\n",
    "mask2 = np.where((mask==2)|(mask==0),0,1).astype('uint8')\n",
    "img = img*mask2[:,:,np.newaxis]\n",
    "\n",
    "plt.imshow(img),plt.colorbar(),plt.show()\n",
    "\n",
    "# newmask is the mask image I manually labelled\n",
    "newmask = cv2.imread(pf2,0)\n",
    "\n",
    "# whereever it is marked white (sure foreground), change mask=1\n",
    "# whereever it is marked black (sure background), change mask=0\n",
    "mask[newmask == 0] = 0\n",
    "mask[newmask == 255] = 1\n",
    "\n",
    "mask, bgdModel, fgdModel = cv2.grabCut(img,mask,None,bgdModel,fgdModel,5,cv2.GC_INIT_WITH_MASK)\n",
    "\n",
    "mask = np.where((mask==2)|(mask==0),0,1).astype('uint8')\n",
    "img = img*mask[:,:,np.newaxis]\n",
    "plt.imshow(img),plt.colorbar(),plt.show()"
   ],
   "metadata": {
    "collapsed": false,
    "pycharm": {
     "name": "#%%\n"
    }
   }
  },
  {
   "cell_type": "code",
   "execution_count": null,
   "outputs": [],
   "source": [
    "#importing required libraries\n",
    "import numpy as np\n",
    "import cv2\n",
    "import matplotlib.pyplot as plt\n",
    "\n",
    "#reading the image\n",
    "image = cv2.imread(pf3) # coins.jpg\n",
    "#converting image to grayscale format\n",
    "gray = cv2.cvtColor(image,cv2.COLOR_BGR2GRAY)\n",
    "#apply thresholding\n",
    "ret,thresh = cv2.threshold(gray,0,250,cv2.THRESH_BINARY_INV+cv2.THRESH_OTSU)\n",
    "#get a kernel\n",
    "kernel = np.ones((3,3),np.uint8)\n",
    "opening = cv2.morphologyEx(thresh,cv2.MORPH_OPEN,kernel,iterations = 2)\n",
    "#extract the background from image\n",
    "sure_bg = cv2.dilate(opening,kernel,iterations = 3)\n",
    "\n",
    "dist_transform = cv2.distanceTransform(opening,cv2.DIST_L2,5)\n",
    "ret,sure_fg = cv2.threshold(dist_transform,0.7*dist_transform.max(),255,0)\n",
    "\n",
    "sure_fg = np.uint8(sure_fg)\n",
    "unknown = cv2.subtract(sure_bg,sure_bg)\n",
    "\n",
    "ret,markers = cv2.connectedComponents(sure_fg)\n",
    "\n",
    "markers = markers+1\n",
    "\n",
    "markers[unknown==255] = 0\n",
    "\n",
    "markers = cv2.watershed(image,markers)\n",
    "image[markers==-1] = [255,0,0]\n",
    "\n",
    "plt.imshow(sure_fg)"
   ],
   "metadata": {
    "collapsed": false,
    "pycharm": {
     "name": "#%%\n"
    }
   }
  },
  {
   "cell_type": "code",
   "execution_count": 1,
   "metadata": {},
   "outputs": [],
   "source": []
  },
  {
   "cell_type": "code",
   "execution_count": 3,
   "metadata": {},
   "outputs": [
    {
     "ename": "AttributeError",
     "evalue": "'NoneType' object has no attribute 'shape'",
     "output_type": "error",
     "traceback": [
      "\u001b[0;31m---------------------------------------------------------------------------\u001b[0m",
      "\u001b[0;31mAttributeError\u001b[0m                            Traceback (most recent call last)",
      "\u001b[0;32m<ipython-input-3-558c949a6b8e>\u001b[0m in \u001b[0;36m<module>\u001b[0;34m\u001b[0m\n\u001b[1;32m      4\u001b[0m \u001b[0;34m\u001b[0m\u001b[0m\n\u001b[1;32m      5\u001b[0m \u001b[0mimg\u001b[0m \u001b[0;34m=\u001b[0m \u001b[0mcv2\u001b[0m\u001b[0;34m.\u001b[0m\u001b[0mimread\u001b[0m\u001b[0;34m(\u001b[0m\u001b[0;34m'messi5.jpg'\u001b[0m\u001b[0;34m)\u001b[0m\u001b[0;34m\u001b[0m\u001b[0;34m\u001b[0m\u001b[0m\n\u001b[0;32m----> 6\u001b[0;31m \u001b[0mmask\u001b[0m \u001b[0;34m=\u001b[0m \u001b[0mnp\u001b[0m\u001b[0;34m.\u001b[0m\u001b[0mzeros\u001b[0m\u001b[0;34m(\u001b[0m\u001b[0mimg\u001b[0m\u001b[0;34m.\u001b[0m\u001b[0mshape\u001b[0m\u001b[0;34m[\u001b[0m\u001b[0;34m:\u001b[0m\u001b[0;36m2\u001b[0m\u001b[0;34m]\u001b[0m\u001b[0;34m,\u001b[0m\u001b[0mnp\u001b[0m\u001b[0;34m.\u001b[0m\u001b[0muint8\u001b[0m\u001b[0;34m)\u001b[0m\u001b[0;34m\u001b[0m\u001b[0;34m\u001b[0m\u001b[0m\n\u001b[0m\u001b[1;32m      7\u001b[0m \u001b[0;34m\u001b[0m\u001b[0m\n\u001b[1;32m      8\u001b[0m \u001b[0mbgdModel\u001b[0m \u001b[0;34m=\u001b[0m \u001b[0mnp\u001b[0m\u001b[0;34m.\u001b[0m\u001b[0mzeros\u001b[0m\u001b[0;34m(\u001b[0m\u001b[0;34m(\u001b[0m\u001b[0;36m1\u001b[0m\u001b[0;34m,\u001b[0m\u001b[0;36m65\u001b[0m\u001b[0;34m)\u001b[0m\u001b[0;34m,\u001b[0m\u001b[0mnp\u001b[0m\u001b[0;34m.\u001b[0m\u001b[0mfloat64\u001b[0m\u001b[0;34m)\u001b[0m\u001b[0;34m\u001b[0m\u001b[0;34m\u001b[0m\u001b[0m\n",
      "\u001b[0;31mAttributeError\u001b[0m: 'NoneType' object has no attribute 'shape'"
     ]
    }
   ],
   "source": [
    "import numpy as np\n",
    "import cv2\n",
    "from matplotlib import pyplot as plt\n",
    "\n",
    "img = cv2.imread('messi5.jpg')\n",
    "mask = np.zeros(img.shape[:2],np.uint8)\n",
    "\n",
    "bgdModel = np.zeros((1,65),np.float64)\n",
    "fgdModel = np.zeros((1,65),np.float64)\n",
    "\n",
    "rect = (50,50,450,290)\n",
    "cv2.grabCut(img,mask,rect,bgdModel,fgdModel,5,cv2.GC_INIT_WITH_RECT)\n",
    "\n",
    "mask2 = np.where((mask==2)|(mask==0),0,1).astype('uint8')\n",
    "img = img*mask2[:,:,np.newaxis]\n",
    "\n",
    "plt.imshow(img),plt.colorbar(),plt.show()\n",
    "\n",
    "# newmask is the mask image I manually labelled\n",
    "newmask = cv2.imread(pf2,0)\n",
    "\n",
    "# whereever it is marked white (sure foreground), change mask=1\n",
    "# whereever it is marked black (sure background), change mask=0\n",
    "mask[newmask == 0] = 0\n",
    "mask[newmask == 255] = 1\n",
    "\n",
    "mask, bgdModel, fgdModel = cv2.grabCut(img,mask,None,bgdModel,fgdModel,5,cv2.GC_INIT_WITH_MASK)\n",
    "\n",
    "mask = np.where((mask==2)|(mask==0),0,1).astype('uint8')\n",
    "img = img*mask[:,:,np.newaxis]\n",
    "plt.imshow(img),plt.colorbar(),plt.show()"
   ]
  },
  {
   "cell_type": "code",
   "execution_count": 14,
   "metadata": {},
   "outputs": [
    {
     "data": {
      "text/plain": [
       "<matplotlib.image.AxesImage at 0x10f511898>"
      ]
     },
     "execution_count": 14,
     "metadata": {},
     "output_type": "execute_result"
    },
    {
     "data": {
      "image/png": "[encoded data removed]",
      "text/plain": [
       "<Figure size 432x288 with 1 Axes>"
      ]
     },
     "metadata": {
      "needs_background": "light"
     },
     "output_type": "display_data"
    }
   ],
   "source": [
    "#importing required libraries\n",
    "import numpy as np\n",
    "import cv2\n",
    "import matplotlib.pyplot as plt\n",
    "\n",
    "#reading the image\n",
    "image = cv2.imread(pf3) # coins.jpg\n",
    "#converting image to grayscale format\n",
    "gray = cv2.cvtColor(image,cv2.COLOR_BGR2GRAY)\n",
    "#apply thresholding\n",
    "ret,thresh = cv2.threshold(gray,0,250,cv2.THRESH_BINARY_INV+cv2.THRESH_OTSU)\n",
    "#get a kernel\n",
    "kernel = np.ones((3,3),np.uint8)\n",
    "opening = cv2.morphologyEx(thresh,cv2.MORPH_OPEN,kernel,iterations = 2)\n",
    "#extract the background from image\n",
    "sure_bg = cv2.dilate(opening,kernel,iterations = 3)\n",
    "\n",
    "dist_transform = cv2.distanceTransform(opening,cv2.DIST_L2,5)\n",
    "ret,sure_fg = cv2.threshold(dist_transform,0.7*dist_transform.max(),255,0)\n",
    "\n",
    "sure_fg = np.uint8(sure_fg)\n",
    "unknown = cv2.subtract(sure_bg,sure_bg)\n",
    "\n",
    "ret,markers = cv2.connectedComponents(sure_fg)\n",
    "\n",
    "markers = markers+1\n",
    "\n",
    "markers[unknown==255] = 0\n",
    "\n",
    "markers = cv2.watershed(image,markers)\n",
    "image[markers==-1] = [255,0,0]\n",
    "\n",
    "plt.imshow(sure_fg)"
   ]
  },
  {
   "cell_type": "code",
   "execution_count": null,
   "metadata": {},
   "outputs": [],
   "source": []
  }
 ],
 "metadata": {
  "kernelspec": {
   "display_name": "Python 3",
   "language": "python",
   "name": "python3"
  },
  "language_info": {
   "codemirror_mode": {
    "name": "ipython",
    "version": 3
   },
   "file_extension": ".py",
   "mimetype": "text/x-python",
   "name": "python",
   "nbconvert_exporter": "python",
   "pygments_lexer": "ipython3",
   "version": "3.7.3"
  },
  "pycharm": {
   "stem_cell": {
    "cell_type": "raw",
    "source": [],
    "metadata": {
     "collapsed": false
    }
   }
  }
 },
 "nbformat": 4,
 "nbformat_minor": 1
}