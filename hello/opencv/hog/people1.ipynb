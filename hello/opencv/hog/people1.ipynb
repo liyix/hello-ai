{
 "cells": [
  {
   "cell_type": "markdown",
   "metadata": {
    "pycharm": {
     "name": "#%% md\n"
    }
   },
   "source": [
    "### Draw multiple points."
   ]
  },
  {
   "cell_type": "code",
   "execution_count": null,
   "metadata": {
    "pycharm": {
     "name": "#%%\n"
    }
   },
   "outputs": [],
   "source": [
    "import cv2\n",
    "\n",
    "imgFilePath = '/opt/limi/hello-opencv/build/deploy/images/peoples-000001.jpg'\n",
    "\n",
    "\n",
    "def is_inside(o, i):\n",
    "    ox, oy, ow, oh = o\n",
    "    ix, iy, iw, ih = i\n",
    "    # 如果符合条件，返回True，否则返回False\n",
    "    return ox > ix and oy > iy and ox + ow < ix + iw and oy + oh < iy + ih\n",
    "\n",
    "\n",
    "# 根据坐标画出人物所在的位置\n",
    "def draw_person(img, person):\n",
    "    x, y, w, h = person\n",
    "    cv2.rectangle(img, (x, y), (x + w, y + h), (0, 255, 255), 2)\n",
    "\n",
    "\n",
    "# 定义HOG特征+SVM分类器\n",
    "img = cv2.imread(imgFilePath)\n",
    "hog = cv2.HOGDescriptor()\n",
    "hog.setSVMDetector(cv2.HOGDescriptor_getDefaultPeopleDetector())\n",
    "found, w = hog.detectMultiScale(img, winStride=(8, 8), scale=1.05)\n",
    "\n",
    "# 判断坐标位置是否有重叠\n",
    "found_filtered = []\n",
    "for ri, r in enumerate(found):\n",
    "    for qi, q in enumerate(found):\n",
    "        a = is_inside(r, q)\n",
    "        if ri != qi and a:\n",
    "            break\n",
    "    else:\n",
    "        found_filtered.append(r)\n",
    "# 勾画筛选后的坐标位置\n",
    "for person in found_filtered:\n",
    "    draw_person(img, person)\n",
    "# 显示图像\n",
    "cv2.imshow(\"people detection\", img)\n",
    "cv2.waitKey(0)\n",
    "cv2.destroyAllWindows()\n"
   ]
  }
 ],
 "metadata": {
  "kernelspec": {
   "display_name": "Python 3",
   "language": "python",
   "name": "python3"
  },
  "language_info": {
   "codemirror_mode": {
    "name": "ipython",
    "version": 3
   },
   "file_extension": ".py",
   "mimetype": "text/x-python",
   "name": "python",
   "nbconvert_exporter": "python",
   "pygments_lexer": "ipython3",
   "version": "3.7.3"
  },
  "pycharm": {
   "stem_cell": {
    "cell_type": "raw",
    "source": [],
    "metadata": {
     "collapsed": false
    }
   }
  }
 },
 "nbformat": 4,
 "nbformat_minor": 1
}