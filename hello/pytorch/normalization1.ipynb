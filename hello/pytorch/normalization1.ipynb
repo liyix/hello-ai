{
 "cells": [
  {
   "cell_type": "code",
   "execution_count": 5,
   "metadata": {},
   "outputs": [
    {
     "name": "stdout",
     "output_type": "stream",
     "text": [
      "tensor([0., 0., 0., 0., 0., 0., 0., 0., 0., 0., 0., 0., 0., 0., 0., 0.]) tensor([1., 1., 1., 1., 1., 1., 1., 1., 1., 1., 1., 1., 1., 1., 1., 1.])\n",
      "tensor([0.0498, 0.0543, 0.0509, 0.0496, 0.0456, 0.0523, 0.0509, 0.0536, 0.0540,\n",
      "        0.0444, 0.0491, 0.0492, 0.0468, 0.0493, 0.0490, 0.0544]) tensor([0.9084, 0.9094, 0.9091, 0.9080, 0.9081, 0.9084, 0.9072, 0.9074, 0.9091,\n",
      "        0.9087, 0.9079, 0.9082, 0.9085, 0.9087, 0.9080, 0.9088])\n",
      "Parameter containing:\n",
      "tensor([1., 1., 1., 1., 1., 1., 1., 1., 1., 1., 1., 1., 1., 1., 1., 1.],\n",
      "       requires_grad=True)\n",
      "Parameter containing:\n",
      "tensor([0., 0., 0., 0., 0., 0., 0., 0., 0., 0., 0., 0., 0., 0., 0., 0.],\n",
      "       requires_grad=True)\n"
     ]
    }
   ],
   "source": [
    "\n",
    "import torch\n",
    "from    torch import nn\n",
    "from    torch.nn import functional as F\n",
    "from    torch import optim\n",
    "\n",
    "x = torch.rand(100, 16)\n",
    "layer = torch.nn.BatchNorm1d(16)\n",
    "\n",
    "print(layer.running_mean, layer.running_var)\n",
    "\n",
    "out = layer(x)\n",
    "\n",
    "print(layer.running_mean, layer.running_var)\n",
    "\n",
    "for parameter in layer.parameters():\n",
    "    print(parameter)\n",
    "\n",
    "vars(layer)"
   ]
  },
  {
   "cell_type": "code",
   "execution_count": null,
   "metadata": {},
   "outputs": [],
   "source": []
  }
 ],
 "metadata": {
  "kernelspec": {
   "display_name": "Python 3",
   "language": "python",
   "name": "python3"
  },
  "language_info": {
   "codemirror_mode": {
    "name": "ipython",
    "version": 3
   },
   "file_extension": ".py",
   "mimetype": "text/x-python",
   "name": "python",
   "nbconvert_exporter": "python",
   "pygments_lexer": "ipython3",
   "version": "3.7.3"
  },
  "pycharm": {
   "stem_cell": {
    "cell_type": "raw",
    "source": [],
    "metadata": {
     "collapsed": false
    }
   }
  }
 },
 "nbformat": 4,
 "nbformat_minor": 1
}