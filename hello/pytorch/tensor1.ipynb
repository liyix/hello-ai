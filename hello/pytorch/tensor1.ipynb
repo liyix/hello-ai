{
 "cells": [
  {
   "cell_type": "code",
   "execution_count": 2,
   "metadata": {},
   "outputs": [],
   "source": [
    "import torch"
   ]
  },
  {
   "cell_type": "code",
   "execution_count": 3,
   "metadata": {},
   "outputs": [],
   "source": [
    "\n",
    "a = torch.arange(81)\n",
    "b = a.view([3,3,3,3])\n",
    "c = a[2:7:]   # 从索引 2 开始到索引 7 停止，间隔为 2\n",
    "d = b[0:1, 1:2, 0:3] # axis 从 0 开始的, axis=0,axis=1的 0:1 (就是 3 * 3 * 1 * 3)\n"
   ]
  },
  {
   "cell_type": "code",
   "execution_count": 4,
   "metadata": {},
   "outputs": [
    {
     "name": "stdout",
     "output_type": "stream",
     "text": [
      "tensor([[[[ 0,  1,  2],\n",
      "          [ 3,  4,  5],\n",
      "          [ 6,  7,  8]],\n",
      "\n",
      "         [[ 9, 10, 11],\n",
      "          [12, 13, 14],\n",
      "          [15, 16, 17]],\n",
      "\n",
      "         [[18, 19, 20],\n",
      "          [21, 22, 23],\n",
      "          [24, 25, 26]]],\n",
      "\n",
      "\n",
      "        [[[27, 28, 29],\n",
      "          [30, 31, 32],\n",
      "          [33, 34, 35]],\n",
      "\n",
      "         [[36, 37, 38],\n",
      "          [39, 40, 41],\n",
      "          [42, 43, 44]],\n",
      "\n",
      "         [[45, 46, 47],\n",
      "          [48, 49, 50],\n",
      "          [51, 52, 53]]],\n",
      "\n",
      "\n",
      "        [[[54, 55, 56],\n",
      "          [57, 58, 59],\n",
      "          [60, 61, 62]],\n",
      "\n",
      "         [[63, 64, 65],\n",
      "          [66, 67, 68],\n",
      "          [69, 70, 71]],\n",
      "\n",
      "         [[72, 73, 74],\n",
      "          [75, 76, 77],\n",
      "          [78, 79, 80]]]])\n"
     ]
    }
   ],
   "source": [
    "print(b)"
   ]
  },
  {
   "cell_type": "code",
   "execution_count": 6,
   "metadata": {},
   "outputs": [
    {
     "name": "stdout",
     "output_type": "stream",
     "text": [
      "tensor([2, 3, 4, 5, 6])\n"
     ]
    }
   ],
   "source": [
    "print(c)"
   ]
  },
  {
   "cell_type": "code",
   "execution_count": 7,
   "metadata": {},
   "outputs": [
    {
     "name": "stdout",
     "output_type": "stream",
     "text": [
      "tensor([[[[ 9, 10, 11],\n",
      "          [12, 13, 14],\n",
      "          [15, 16, 17]]]])\n"
     ]
    }
   ],
   "source": [
    "print(d)"
   ]
  },
  {
   "cell_type": "code",
   "execution_count": null,
   "metadata": {},
   "outputs": [],
   "source": [
    "# https://pytorch.org/docs/stable/tensors.html\n",
    "\n",
    "import torch\n",
    "import numpy as np\n",
    "from torch.autograd import Variable\n",
    "\n",
    "\n",
    "a = torch.tensor([[1,2,3],[4,5,6],[7,8,9]])\n",
    "\n",
    "print(a[1])\n",
    "\n"
   ]
  }
 ],
 "metadata": {
  "kernelspec": {
   "display_name": "Python 3",
   "language": "python",
   "name": "python3"
  },
  "language_info": {
   "codemirror_mode": {
    "name": "ipython",
    "version": 3
   },
   "file_extension": ".py",
   "mimetype": "text/x-python",
   "name": "python",
   "nbconvert_exporter": "python",
   "pygments_lexer": "ipython3",
   "version": "3.7.3"
  },
  "pycharm": {
   "stem_cell": {
    "cell_type": "raw",
    "source": [],
    "metadata": {
     "collapsed": false
    }
   }
  }
 },
 "nbformat": 4,
 "nbformat_minor": 2
}