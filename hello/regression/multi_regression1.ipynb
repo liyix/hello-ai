{
 "cells": [
  {
   "cell_type": "code",
   "execution_count": 14,
   "metadata": {},
   "outputs": [],
   "source": [
    "# common function\n",
    "\n",
    "def printVar1(var1):\n",
    "    print(var1)\n",
    "    print()\n",
    "\n",
    "\n",
    "def printDim1(dim1):\n",
    "    for c in dim1:\n",
    "        print(c, end = \" \")\n",
    "    print()\n",
    "\n",
    "\n",
    "def printDim2(dim2):\n",
    "    for r in dim2:\n",
    "        for c in r:\n",
    "            print(c, end = \" \")\n",
    "        print()\n",
    "        "
   ]
  },
  {
   "cell_type": "code",
   "execution_count": 2,
   "metadata": {},
   "outputs": [
    {
     "name": "stdout",
     "output_type": "stream",
     "text": [
      "100 4 9.3 \n",
      "50 3 4.8 \n",
      "100 4 8.9 \n",
      "100 2 6.5 \n",
      "50 2 4.2 \n",
      "80 2 6.2 \n",
      "75 3 7.4 \n",
      "65 4 6.0 \n",
      "90 3 7.6 \n",
      "90 2 6.1 \n"
     ]
    }
   ],
   "source": [
    "# data is org input data\n",
    "data = [\n",
    "    [100, 4, 9.3],\n",
    "    [50 , 3, 4.8],\n",
    "    [100, 4, 8.9],\n",
    "    [100, 2, 6.5],\n",
    "    [50 , 2, 4.2],\n",
    "    [80 , 2, 6.2],\n",
    "    [75 , 3, 7.4],\n",
    "    [65 , 4, 6.0],\n",
    "    [90 , 3, 7.6],\n",
    "    [90 , 2, 6.1]\n",
    "]\n",
    "\n",
    "dataRowCount = len(data)\n",
    "dataColCount = len(data[0])\n",
    "yIndex = dataColCount-1\n",
    "\n",
    "printDim2(data)\n"
   ]
  },
  {
   "cell_type": "code",
   "execution_count": 3,
   "metadata": {},
   "outputs": [
    {
     "name": "stdout",
     "output_type": "stream",
     "text": [
      "0 0 0 \n",
      "0 0 0 \n"
     ]
    }
   ],
   "source": [
    "# total is sum of data\n",
    "total = [0 for i in range(dataColCount)]\n",
    "\n",
    "\n",
    "def initTotal():\n",
    "    global total\n",
    "    for i in range(len(total)):\n",
    "        total[i] = 1\n",
    "    total = [0] * len(total)\n",
    "\n",
    "\n",
    "initTotal()\n",
    "printDim1(total)\n",
    "\n",
    "# aver is average of data\n",
    "aver = [0 for i in range(dataColCount)]\n",
    "\n",
    "\n",
    "def initAver():\n",
    "    global aver\n",
    "    aver = [0] * len(aver)\n",
    "\n",
    "\n",
    "initAver()\n",
    "printDim1(aver)\n"
   ]
  },
  {
   "cell_type": "code",
   "execution_count": 4,
   "metadata": {},
   "outputs": [
    {
     "name": "stdout",
     "output_type": "stream",
     "text": [
      "800 29 67.0 \n",
      "80.0 2.9 6.7 \n"
     ]
    }
   ],
   "source": [
    "###\n",
    "# calc total and average from data (input)\n",
    "###\n",
    "def calcTotal():\n",
    "    initTotal()\n",
    "    for r in data:\n",
    "        for i in range(len(r)):\n",
    "            total[i] += r[i]\n",
    "calcTotal()            \n",
    "printDim1(total)\n",
    "\n",
    "def calcAver():\n",
    "    initAver()\n",
    "    for i in range(len(total)):\n",
    "        aver[i] = total[i] / len(data)\n",
    "calcAver()\n",
    "printDim1(aver)\n",
    "    "
   ]
  },
  {
   "cell_type": "code",
   "execution_count": 5,
   "metadata": {},
   "outputs": [
    {
     "name": "stdout",
     "output_type": "stream",
     "text": [
      "52.000000000000014 2.8600000000000008 \n",
      "57.000000000000014 -0.1900000000000002 \n",
      "44.0 2.4200000000000004 \n",
      "-4.0000000000000036 0.18000000000000013 \n",
      "75.0 2.25 \n",
      "-0.0 0.44999999999999996 \n",
      "-3.500000000000001 0.07000000000000008 \n",
      "10.500000000000004 -0.7700000000000002 \n",
      "8.999999999999995 0.09000000000000002 \n",
      "-6.000000000000005 0.5400000000000005 \n",
      "400.0 1.2100000000000002 \n",
      "900.0 0.010000000000000018 \n",
      "400.0 1.2100000000000002 \n",
      "400.0 0.8099999999999998 \n",
      "900.0 0.8099999999999998 \n",
      "0.0 0.8099999999999998 \n",
      "25.0 0.010000000000000018 \n",
      "225.0 1.2100000000000002 \n",
      "100.0 0.010000000000000018 \n",
      "100.0 0.8099999999999998 \n"
     ]
    }
   ],
   "source": [
    "# def multiple linear regression\n",
    "# def simple linear regression's b1sons=sum((xi - aver(x))(yi-aver(y)))\n",
    "# def simple linear regression's b1mothers=sum(power(xi - aver(x)))\n",
    "\n",
    "b1sons = [[0 for i in range(dataColCount - 1)] for j in range(dataRowCount)]\n",
    "\n",
    "\n",
    "def calcB1sons():\n",
    "    for j in range(dataColCount - 1):\n",
    "        for i in range(dataRowCount):\n",
    "            n1 = (data[i][j] - aver[j])\n",
    "            n2 = (data[i][yIndex] - aver[yIndex])\n",
    "            b1sons[i][j] = n1 * n2\n",
    "\n",
    "\n",
    "calcB1sons()\n",
    "printDim2(b1sons)\n",
    "\n",
    "b1mothers = [[0 for i in range(dataColCount - 1)] for j in range(dataRowCount)]\n",
    "\n",
    "\n",
    "def calcB1mothers():\n",
    "    for j in range(dataColCount - 1):\n",
    "        for i in range(dataRowCount):\n",
    "            n1 = (data[i][j] - aver[j])\n",
    "            b1mothers[i][j] = n1 * n1\n",
    "\n",
    "\n",
    "calcB1mothers()\n",
    "printDim2(b1mothers)\n"
   ]
  },
  {
   "cell_type": "code",
   "execution_count": 9,
   "metadata": {},
   "outputs": [
    {
     "name": "stdout",
     "output_type": "stream",
     "text": [
      "234.00000000000003 7.9 \n",
      "3450.0 6.899999999999999 \n"
     ]
    }
   ],
   "source": [
    "\n",
    "###\n",
    "# calc b1\n",
    "###\n",
    "\n",
    "totalB1sons = [0 for i in range(dataColCount - 1)]\n",
    "\n",
    "def calcTotalB1sons():\n",
    "    for j in range(dataColCount - 1):\n",
    "        totalBlson = 0\n",
    "        for i in range(dataRowCount):\n",
    "            totalBlson += b1sons[i][j]\n",
    "        totalB1sons[j] = totalBlson\n",
    "calcTotalB1sons()\n",
    "printDim1(totalB1sons)\n",
    "\n",
    "\n",
    "totalB1mothers = [0 for i in range(dataColCount - 1)]\n",
    "\n",
    "def calcTotalB1mothers():\n",
    "    for j in range(dataColCount - 1):\n",
    "        totalBlmother = 0\n",
    "        for i in range(dataRowCount):\n",
    "            totalBlmother += b1mothers[i][j]\n",
    "        totalB1mothers[j] = totalBlmother\n",
    "calcTotalB1mothers()\n",
    "printDim1(totalB1mothers)\n",
    "\n"
   ]
  },
  {
   "cell_type": "code",
   "execution_count": 15,
   "metadata": {},
   "outputs": [
    {
     "name": "stdout",
     "output_type": "stream",
     "text": [
      "0.06782608695652174 1.1449275362318843 \n",
      "-2.046376811594204\n",
      "\n"
     ]
    }
   ],
   "source": [
    "\n",
    "b1s = [0 for i in range(dataColCount - 1)]\n",
    "def calcB1s():\n",
    "    for j in range(dataColCount - 1):\n",
    "        b1s[j] = totalB1sons[j] / totalB1mothers[j]\n",
    "calcB1s()\n",
    "printDim1(b1s)\n",
    "\n",
    "\n",
    "b0 = aver[yIndex]\n",
    "def calcB0s():\n",
    "    global b0\n",
    "    for j in range(dataColCount - 1):\n",
    "        b0 -= b1s[j] * aver[j]\n",
    "calcB0s()\n",
    "printVar1(b0)\n"
   ]
  },
  {
   "cell_type": "code",
   "execution_count": null,
   "metadata": {},
   "outputs": [],
   "source": []
  }
 ],
 "metadata": {
  "kernelspec": {
   "display_name": "Python 3",
   "language": "python",
   "name": "python3"
  },
  "language_info": {
   "codemirror_mode": {
    "name": "ipython",
    "version": 3
   },
   "file_extension": ".py",
   "mimetype": "text/x-python",
   "name": "python",
   "nbconvert_exporter": "python",
   "pygments_lexer": "ipython3",
   "version": "3.7.1"
  }
 },
 "nbformat": 4,
 "nbformat_minor": 2
}
