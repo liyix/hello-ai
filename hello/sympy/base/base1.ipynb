{
 "cells": [
  {
   "cell_type": "code",
   "execution_count": 1,
   "metadata": {},
   "outputs": [],
   "source": [
    "import sympy as syp"
   ]
  },
  {
   "cell_type": "code",
   "execution_count": 2,
   "metadata": {},
   "outputs": [
    {
     "name": "stdout",
     "output_type": "stream",
     "text": [
      "解一元二次方程组==================================================\n",
      "{x: 2, y: 1}\n"
     ]
    }
   ],
   "source": [
    "# 解一元二次方程组\n",
    "print((\"解一元二次方程组\" + \"=\"*50))\n",
    "x, y = syp.symbols('x y')\n",
    "print(syp.solve([2*x - y - 3, 3*x + y-7], [x, y]))"
   ]
  },
  {
   "cell_type": "code",
   "execution_count": 3,
   "metadata": {},
   "outputs": [
    {
     "name": "stdout",
     "output_type": "stream",
     "text": [
      "求极限值==================================================\n",
      "E\n",
      "Limit((cos(x) - 1)/x, x, 0)\n"
     ]
    }
   ],
   "source": [
    "# 求极限值\n",
    "print((\"求极限值\" + \"=\"*50))\n",
    "n = syp.Symbol('n')\n",
    "print(syp.limit(((n+3)/(n+2))**n, n, syp.oo))\n",
    "print(syp.Limit((syp.cos(x) - 1)/x, x, 0)) # 只显示求极限公式不计算"
   ]
  },
  {
   "cell_type": "code",
   "execution_count": 4,
   "metadata": {},
   "outputs": [
    {
     "name": "stdout",
     "output_type": "stream",
     "text": [
      "求定积分==================================================\n",
      "2\n",
      "pi\n",
      "x*log(x)**2 - 2*x*log(x) + 2*x\n"
     ]
    }
   ],
   "source": [
    "# 求定积分\n",
    "print((\"求定积分\" + \"=\"*50))\n",
    "t, x = syp.symbols('t x')\n",
    "m = syp.integrate(syp.sin(t)/(syp.pi-t), (t, 0, x))\n",
    "n = syp.integrate(m, (x, 0, syp.pi))\n",
    "print(n)\n",
    "print(syp.integrate(syp.exp(-x**2 - y**2), (x, -syp.oo, syp.oo), (y, -syp.oo, syp.oo)))\n",
    "print(syp.Integral(syp.log(x)**2, x).doit())  # integrate 是求积分并计算，Integral 是求积分不计算"
   ]
  },
  {
   "cell_type": "code",
   "execution_count": 5,
   "metadata": {},
   "outputs": [
    {
     "name": "stdout",
     "output_type": "stream",
     "text": [
      "解微分方程==================================================\n",
      "Eq(f(x), C1*exp(x**2))\n",
      "Eq(f(x) - 2*Derivative(f(x), x) + Derivative(f(x), (x, 2)), sin(x))\n"
     ]
    }
   ],
   "source": [
    "# 解微分方程\n",
    "print((\"解微分方程\" + \"=\"*50))\n",
    "f = syp.Function('f')  # 意义同Symbol，但这是函数因变量的符号化\n",
    "x = syp.Symbol('x')\n",
    "print(syp.dsolve(syp.diff(f(x), x)-2*x*f(x), f(x)))\n",
    "print(syp.Eq(f(x).diff(x, x) - 2*f(x).diff(x) + f(x), syp.sin(x)))"
   ]
  },
  {
   "cell_type": "code",
   "execution_count": 6,
   "metadata": {},
   "outputs": [
    {
     "name": "stdout",
     "output_type": "stream",
     "text": [
      "simplify判断两个式子是否相等==================================================\n",
      "x**2 + 6*x + 9\n",
      "True\n",
      "0\n"
     ]
    }
   ],
   "source": [
    "# simplify判断两个式子是否相等\n",
    "print((\"simplify判断两个式子是否相等\" + \"=\"*50))\n",
    "x = syp.symbols('x')\n",
    "a = x**2 + 6*x\n",
    "b = 9\n",
    "c = (x+3)**2\n",
    "print(syp.simplify(a + b))\n",
    "print(c.equals(a+b))\n",
    "print(syp.simplify(c-(a+b)))"
   ]
  },
  {
   "cell_type": "code",
   "execution_count": 7,
   "metadata": {},
   "outputs": [
    {
     "name": "stdout",
     "output_type": "stream",
     "text": [
      "代入自变量的值求解==================================================\n",
      "19/2\n",
      "12.4600000000000\n"
     ]
    }
   ],
   "source": [
    "# 代入自变量的值求解\n",
    "print((\"代入自变量的值求解\" + \"=\"*50))\n",
    "str_expr = syp.sympify(\"x**2 + 3*x - 1/2\")\n",
    "print(str_expr.subs(x, 2))\n",
    "print(str_expr.evalf(subs={x: 2.4}))"
   ]
  },
  {
   "cell_type": "code",
   "execution_count": 8,
   "metadata": {},
   "outputs": [
    {
     "name": "stdout",
     "output_type": "stream",
     "text": [
      "保留 2 位小数==================================================\n",
      "2.8\n"
     ]
    }
   ],
   "source": [
    "# 保留 2 位小数\n",
    "print((\"保留 2 位小数\" + \"=\"*50))\n",
    "print((syp.sqrt(8).evalf(2)))"
   ]
  },
  {
   "cell_type": "code",
   "execution_count": 9,
   "metadata": {},
   "outputs": [
    {
     "name": "stdout",
     "output_type": "stream",
     "text": [
      "[ 0.          0.84147098  0.90929743  0.14112001 -0.7568025  -0.95892427\n",
      " -0.2794155   0.6569866   0.98935825  0.41211849]\n",
      "⌠           \n",
      "⎮     ___   \n",
      "⎮    ╱ 1    \n",
      "⎮   ╱  ─  dx\n",
      "⎮ ╲╱   x    \n",
      "⌡           \n",
      "  /          \n",
      " |           \n",
      " |     ___   \n",
      " |    / 1    \n",
      " |   /  -  dx\n",
      " | \\/   x    \n",
      " |           \n",
      "/            \n"
     ]
    }
   ],
   "source": [
    "# 结合 numpy 计算多个自变量值的解\n",
    "import numpy\n",
    "a = numpy.arange(10)\n",
    "expr = syp.sin(x)\n",
    "f = syp.lambdify(x, expr, \"numpy\")\n",
    "print((f(a)))\n",
    "\n",
    "syp.pprint(syp.Integral(syp.sqrt(1/x), x), use_unicode=True)\n",
    "print((syp.pretty(syp.Integral(syp.sqrt(1/x), x), use_unicode=False)))"
   ]
  },
  {
   "cell_type": "code",
   "execution_count": 10,
   "metadata": {},
   "outputs": [
    {
     "name": "stdout",
     "output_type": "stream",
     "text": [
      "x**2 + 2*x + 1\n",
      "-2\n"
     ]
    }
   ],
   "source": [
    "# 展开公式\n",
    "print(syp.expand((x + 1)**2))\n",
    "print(syp.expand((x + 1)*(x - 2) - (x - 1)*x))"
   ]
  },
  {
   "cell_type": "code",
   "execution_count": 11,
   "metadata": {},
   "outputs": [
    {
     "name": "stdout",
     "output_type": "stream",
     "text": [
      "(x - 1)*(x**2 + 1)\n",
      "(x + 1)/x\n",
      "(x + 1)/x\n",
      "(x + 1)/x\n"
     ]
    }
   ],
   "source": [
    "# 折叠公式\n",
    "print(syp.factor(x**3 - x**2 + x - 1))\n",
    "\n",
    "print(syp.cancel((x**2 + 2*x + 1)/(x**2 + x)))\n",
    "print(syp.simplify((x**2 + 2*x + 1)/(x**2 + x)))\n",
    "print(syp.factor((x**2 + 2*x + 1)/(x**2 + x)))"
   ]
  },
  {
   "cell_type": "code",
   "execution_count": 12,
   "metadata": {},
   "outputs": [
    {
     "name": "stdout",
     "output_type": "stream",
     "text": [
      "(2*x - 1)/(x**2 + x + 1) - 1/(x + 4) + 3/x\n"
     ]
    }
   ],
   "source": [
    "# 拆开分式\n",
    "expr = (4*x**3 + 21*x**2 + 10*x + 12)/(x**4 + 5*x**3 + 5*x**2 + 4*x)\n",
    "print(syp.apart(expr))"
   ]
  },
  {
   "cell_type": "code",
   "execution_count": 13,
   "metadata": {},
   "outputs": [
    {
     "name": "stdout",
     "output_type": "stream",
     "text": [
      "pi/2\n",
      "cos(4*x)/2 + 1/2\n",
      "cos(4*x)/2 + 1/2\n"
     ]
    }
   ],
   "source": [
    "# 三角函数\n",
    "print(syp.asin(1))\n",
    "print(syp.trigsimp(syp.sin(x)**4 - 2*syp.cos(x)**2*syp.sin(x)**2 + syp.cos(x)**4))\n",
    "print(syp.simplify(syp.sin(x)**4 - 2*syp.cos(x)**2*syp.sin(x)**2 + syp.cos(x)**4))"
   ]
  },
  {
   "cell_type": "code",
   "execution_count": 14,
   "metadata": {},
   "outputs": [
    {
     "name": "stdout",
     "output_type": "stream",
     "text": [
      "sin(x)*cos(y) + sin(y)*cos(x)\n",
      "sin(x + y)\n"
     ]
    }
   ],
   "source": [
    "# 展开三角函数\n",
    "print(syp.expand_trig(syp.sin(x + y)))\n",
    "print(syp.expand(syp.sin(x + y)))"
   ]
  },
  {
   "cell_type": "code",
   "execution_count": 15,
   "metadata": {},
   "outputs": [
    {
     "name": "stdout",
     "output_type": "stream",
     "text": [
      "True\n",
      "t**c*z**c\n",
      "(t*z)**c\n",
      "(t*z)**c\n",
      "t**c*z**c\n",
      "(z**x)**y\n"
     ]
    }
   ],
   "source": [
    "# 幂函数\n",
    "print(syp.sqrt(x) == x**syp.Rational(1, 2))\n",
    "\n",
    "z, t, c = syp.symbols('z t c')\n",
    "print(syp.powsimp(t**c*z**c))\n",
    "print(syp.expand_power_base((z*t)**c))\n",
    "z, t, c = syp.symbols('z t c', positive=True)\n",
    "print(syp.powsimp(t**c*z**c))  # 自变量大于0才能合并\n",
    "print(syp.expand_power_base((z*t)**c))\n",
    "\n",
    "print(syp.powdenest((z**x)**y))"
   ]
  },
  {
   "cell_type": "code",
   "execution_count": 16,
   "metadata": {},
   "outputs": [
    {
     "name": "stdout",
     "output_type": "stream",
     "text": [
      "log(x) + log(y)\n",
      "2*log(x)\n",
      "log(x*y)\n"
     ]
    }
   ],
   "source": [
    "# 对数函数\n",
    "x, y = syp.symbols('x y', positive=True)\n",
    "print(syp.expand_log(syp.log(x*y)))\n",
    "print(syp.expand_log(syp.log(x**2)))\n",
    "print(syp.logcombine(syp.log(x) + syp.log(y)))"
   ]
  },
  {
   "cell_type": "code",
   "execution_count": 17,
   "metadata": {},
   "outputs": [
    {
     "name": "stdout",
     "output_type": "stream",
     "text": [
      "24\n"
     ]
    }
   ],
   "source": [
    "# 阶乘\n",
    "print(syp.factorial(x).subs(x, 4))"
   ]
  },
  {
   "cell_type": "code",
   "execution_count": 18,
   "metadata": {},
   "outputs": [
    {
     "name": "stdout",
     "output_type": "stream",
     "text": [
      "-sin(x)\n",
      "-sin(x)\n",
      "24*x\n",
      "24*x\n"
     ]
    }
   ],
   "source": [
    "# 求导\n",
    "print(syp.diff(syp.cos(x), x))\n",
    "print(syp.Derivative(syp.cos(x), x).doit()) # 只展示求导的公式不实际计算 ,doit 执行计算\n",
    "print(syp.diff(x**4, x, x, x))  # 多阶求导\n",
    "print(syp.diff(x**4, x, 3))  # 多阶求导\n",
    "# diff(expr, x, y, y, z, z, z, z)  # 偏导数\n",
    "# diff(expr, x, y, 2, z, 4)  # 偏导数"
   ]
  },
  {
   "cell_type": "code",
   "execution_count": 19,
   "metadata": {},
   "outputs": [
    {
     "name": "stdout",
     "output_type": "stream",
     "text": [
      "{-1, 1}\n",
      "{-1, 1}\n",
      "{(-y - 1, y, 2)}\n"
     ]
    }
   ],
   "source": [
    "# 解方程\n",
    "print(syp.solveset(syp.Eq(x**2, 1), x))\n",
    "print(syp.solveset(x**2 - 1, x))\n",
    "print(syp.linsolve([x + y + z - 1, x + y + 2*z - 3 ], (x, y, z)))"
   ]
  },
  {
   "cell_type": "code",
   "execution_count": 26,
   "metadata": {},
   "outputs": [
    {
     "name": "stdout",
     "output_type": "stream",
     "text": [
      "[[1. 0. 0.]\n",
      " [0. 1. 0.]\n",
      " [0. 0. 1.]]\n",
      "Matrix([[1, 2, 3], [0, 1, 2], [4, 5, 6]])\n",
      "Matrix([[1, 2, 3], [4, 5, 6], [0, 1, 2]])\n",
      "[[0 0 0]\n",
      " [0 0 0]]\n"
     ]
    }
   ],
   "source": [
    "# 矩阵\n",
    "M = syp.Matrix([[1, 2, 3], [0, 1, 2], [4, 5, 6]])\n",
    "N = syp.Matrix([[1, 2, 3], [4, 5, 6], [0, 1, 2]])\n",
    "mat1 = numpy.zeros((2,3),dtype = numpy.int32)\n",
    "mat2 = numpy.ones((3, 3))\n",
    "mat3 = numpy.eye(3)\n",
    "print(mat2 * mat3)\n",
    "print(M)\n",
    "print(N)\n",
    "print(mat1)\n"
   ]
  },
  {
   "cell_type": "code",
   "execution_count": 27,
   "metadata": {},
   "outputs": [
    {
     "name": "stdout",
     "output_type": "stream",
     "text": [
      "Matrix([[9, 15, 21], [4, 7, 10], [24, 39, 54]])\n",
      "Matrix([[2, 4, 6], [4, 6, 8], [4, 6, 8]])\n",
      "Matrix([[3, 6, 9], [12, 15, 18], [0, 3, 6]])\n",
      "Matrix([[13, 19, 25], [8, 11, 14], [28, 43, 58]])\n",
      "Matrix([[1, 2, 3]])\n",
      "Matrix([[3], [2], [6]])\n",
      "None\n",
      "None\n",
      "Matrix([[2, 3], [0, 4], [5, 6]])\n",
      "Matrix([[1, 2, 3], [-2, 5, 6]])\n",
      "Matrix([[2, 5], [3, 6]])\n",
      "Matrix([[1, 0, 0], [0, 1, 0], [0, 0, 1]])\n",
      "Matrix([[0, 0, 0], [0, 0, 0]])\n",
      "Matrix([[1, 1, 1], [1, 1, 1]])\n",
      "Matrix([[1, 0, 0], [0, 2, 0], [0, 0, 3]])\n",
      "-1\n"
     ]
    }
   ],
   "source": [
    "print(M*N)   # 矩阵乘法\n",
    "print(M+N)   # 矩阵加法\n",
    "print(3*N)\n",
    "print(M**2)  # 矩阵的平方\n",
    "print(M.row(0))  # 获取矩阵的行\n",
    "print(M.col(-1)) # 获取矩阵的列\n",
    "print(M.col_del(0))  # 删除第一列\n",
    "print(M.row_del(1))  # 删除第二行\n",
    "print(M.row_insert(1, syp.Matrix([[0, 4]])))\n",
    "print(M.col_insert(0, syp.Matrix([1, -2])))\n",
    "print(M.T)   # 矩阵的转置\n",
    "\n",
    "print(syp.eye(3)) # 对角矩阵\n",
    "print(syp.zeros(2, 3))\n",
    "print(syp.ones(2, 3))\n",
    "print(syp.diag(1, 2, 3))\n",
    "\n",
    "M = syp.Matrix([[1, 0, 1], [2, -1, 3], [4, 3, 2]])\n",
    "print(M.det())"
   ]
  },
  {
   "cell_type": "code",
   "execution_count": null,
   "metadata": {},
   "outputs": [],
   "source": []
  }
 ],
 "metadata": {
  "kernelspec": {
   "display_name": "Python 2",
   "language": "python",
   "name": "python2"
  },
  "language_info": {
   "codemirror_mode": {
    "name": "ipython",
    "version": 2
   },
   "file_extension": ".py",
   "mimetype": "text/x-python",
   "name": "python",
   "nbconvert_exporter": "python",
   "pygments_lexer": "ipython2",
   "version": "2.7.15"
  }
 },
 "nbformat": 4,
 "nbformat_minor": 2
}
